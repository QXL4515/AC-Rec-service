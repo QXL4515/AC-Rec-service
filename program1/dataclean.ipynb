{
 "cells": [
  {
   "cell_type": "code",
   "execution_count": 1,
   "metadata": {},
   "outputs": [
    {
     "data": {
      "text/html": [
       "<div>\n",
       "<style scoped>\n",
       "    .dataframe tbody tr th:only-of-type {\n",
       "        vertical-align: middle;\n",
       "    }\n",
       "\n",
       "    .dataframe tbody tr th {\n",
       "        vertical-align: top;\n",
       "    }\n",
       "\n",
       "    .dataframe thead th {\n",
       "        text-align: right;\n",
       "    }\n",
       "</style>\n",
       "<table border=\"1\" class=\"dataframe\">\n",
       "  <thead>\n",
       "    <tr style=\"text-align: right;\">\n",
       "      <th></th>\n",
       "      <th>id</th>\n",
       "      <th>content</th>\n",
       "      <th>sentiment</th>\n",
       "    </tr>\n",
       "  </thead>\n",
       "  <tbody>\n",
       "    <tr>\n",
       "      <td>0</td>\n",
       "      <td>0</td>\n",
       "      <td>the gorgeously elaborate continuation of \" the...</td>\n",
       "      <td>1</td>\n",
       "    </tr>\n",
       "    <tr>\n",
       "      <td>1</td>\n",
       "      <td>1</td>\n",
       "      <td>effective but too-tepid biopic</td>\n",
       "      <td>1</td>\n",
       "    </tr>\n",
       "    <tr>\n",
       "      <td>2</td>\n",
       "      <td>2</td>\n",
       "      <td>if you sometimes like to go to the movies to h...</td>\n",
       "      <td>1</td>\n",
       "    </tr>\n",
       "    <tr>\n",
       "      <td>3</td>\n",
       "      <td>3</td>\n",
       "      <td>emerges as something rare , an issue movie tha...</td>\n",
       "      <td>1</td>\n",
       "    </tr>\n",
       "    <tr>\n",
       "      <td>4</td>\n",
       "      <td>4</td>\n",
       "      <td>the film provides some great insight into the ...</td>\n",
       "      <td>1</td>\n",
       "    </tr>\n",
       "  </tbody>\n",
       "</table>\n",
       "</div>"
      ],
      "text/plain": [
       "   id                                            content  sentiment\n",
       "0   0  the gorgeously elaborate continuation of \" the...          1\n",
       "1   1                     effective but too-tepid biopic          1\n",
       "2   2  if you sometimes like to go to the movies to h...          1\n",
       "3   3  emerges as something rare , an issue movie tha...          1\n",
       "4   4  the film provides some great insight into the ...          1"
      ]
     },
     "execution_count": 1,
     "metadata": {},
     "output_type": "execute_result"
    }
   ],
   "source": [
    "import pandas as pd\n",
    "data=pd.read_csv('data.csv')\n",
    "data.head()"
   ]
  },
  {
   "cell_type": "code",
   "execution_count": 2,
   "metadata": {},
   "outputs": [],
   "source": [
    "def clean_englisth(text):\n",
    "    \"\"\"\n",
    "    英文数据清理\n",
    "    \"\"\"\n",
    "    text = re.sub(r\"[^A-Za-z0-9(),!?\\'\\`\\.]\", \" \", text)  \n",
    "    text = re.sub(r\"\\s{2,}\", \" \", text) \n",
    "    text = re.sub(r\"can\\'t\", \"can not\", text)\n",
    "    text = re.sub(r\"cannot\", \"can not \", text)\n",
    "    text = re.sub(r\"what\\'s\", \"what is\", text)\n",
    "    text = re.sub(r\"What\\'s\", \"what is\", text)\n",
    "    text = re.sub(r\"\\'ve \", \" have \", text)\n",
    "    text = re.sub(r\"n\\'t\", \" not \", text)\n",
    "    text = re.sub(r\"i\\'m\", \"i am \", text)\n",
    "    text = re.sub(r\"I\\'m\", \"i am \", text)\n",
    "    text = re.sub(r\"\\'re\", \" are \", text)\n",
    "    text = re.sub(r\"\\'d\", \" would \", text)\n",
    "    text = re.sub(r\"\\'ll\", \" will \", text)\n",
    "    text = re.sub(r\" e mail \", \" email \", text)\n",
    "    text = re.sub(r\" e \\- mail \", \" email \", text)\n",
    "    text = re.sub(r\" e\\-mail \", \" email \", text)\n",
    "    text = re.sub(r\"ph\\.d\", \"phd\", text)\n",
    "    text = re.sub(r\"PhD\", \"phd\", text)\n",
    "    text = re.sub(r\" e g \", \" eg \", text)\n",
    "    text = re.sub(r\" fb \", \" facebook \", text)\n",
    "    text = re.sub(r\"facebooks\", \" facebook \", text)\n",
    "    text = re.sub(r\"facebooking\", \" facebook \", text)\n",
    "    text = re.sub(r\" usa \", \" america \", text)\n",
    "    text = re.sub(r\" us \", \" america \", text)\n",
    "    text = re.sub(r\" u s \", \" america \", text)\n",
    "    text = re.sub(r\" U\\.S\\. \", \" america \", text)\n",
    "    text = re.sub(r\" US \", \" america \", text)\n",
    "    text = re.sub(r\" American \", \" america \", text)\n",
    "    text = re.sub(r\" America \", \" america \", text)\n",
    "    text = re.sub(r\" mbp \", \" macbook-pro \", text)\n",
    "    text = re.sub(r\" mac \", \" macbook \", text)\n",
    "    text = re.sub(r\"macbook pro\", \"macbook-pro\", text)\n",
    "    text = re.sub(r\"macbook-pros\", \"macbook-pro\", text)\n",
    "    text = re.sub(r\" 1 \", \" one \", text)\n",
    "    text = re.sub(r\" 2 \", \" two \", text)\n",
    "    text = re.sub(r\" 3 \", \" three \", text)\n",
    "    text = re.sub(r\" 4 \", \" four \", text)\n",
    "    text = re.sub(r\" 5 \", \" five \", text)\n",
    "    text = re.sub(r\" 6 \", \" six \", text)\n",
    "    text = re.sub(r\" 7 \", \" seven \", text)\n",
    "    text = re.sub(r\" 8 \", \" eight \", text)\n",
    "    text = re.sub(r\" 9 \", \" nine \", text)\n",
    "    text = re.sub(r\"googling\", \" google \", text)\n",
    "    text = re.sub(r\"googled\", \" google \", text)\n",
    "    text = re.sub(r\"googleable\", \" google \", text)\n",
    "    text = re.sub(r\"googles\", \" google \", text)\n",
    "    text = re.sub(r\"dollars\", \" dollar \", text)\n",
    "    text = re.sub(r'[{}]+'.format('!,;:?\\)\\(\\%\"\\'.'),'',text)\n",
    "    return text.strip().lower()"
   ]
  },
  {
   "cell_type": "code",
   "execution_count": 3,
   "metadata": {},
   "outputs": [],
   "source": [
    "text=[]\n",
    "for i in range(data.shape[0]):\n",
    "    text.append( data['content'].iloc[i])  "
   ]
  },
  {
   "cell_type": "code",
   "execution_count": 4,
   "metadata": {},
   "outputs": [],
   "source": [
    "import re\n",
    "cleantext=[]\n",
    "for i in text:\n",
    "    cleantext.append(clean_englisth(i))\n",
    "\n"
   ]
  },
  {
   "cell_type": "code",
   "execution_count": 5,
   "metadata": {},
   "outputs": [],
   "source": [
    "for i in range(data.shape[0]):\n",
    "    data.iloc[i,1]=cleantext[i]\n",
    "data.to_csv('cleandata.csv',index=None)"
   ]
  },
  {
   "cell_type": "code",
   "execution_count": 6,
   "metadata": {},
   "outputs": [],
   "source": [
    "with open('wiki.en.text','a') as f:\n",
    "    for i in cleantext:\n",
    "        f.write(i)"
   ]
  },
  {
   "cell_type": "code",
   "execution_count": 7,
   "metadata": {},
   "outputs": [
    {
     "data": {
      "text/plain": [
       "(13241, 7)"
      ]
     },
     "execution_count": 7,
     "metadata": {},
     "output_type": "execute_result"
    }
   ],
   "source": [
    "import pandas as pd\n",
    "data=pd.read_excel('article.xlsx')\n",
    "data.head()\n",
    "data.shape"
   ]
  },
  {
   "cell_type": "code",
   "execution_count": 8,
   "metadata": {},
   "outputs": [
    {
     "data": {
      "text/plain": [
       "(11166, 7)"
      ]
     },
     "execution_count": 8,
     "metadata": {},
     "output_type": "execute_result"
    }
   ],
   "source": [
    "data.dropna(how='any',inplace=True)\n",
    "data.shape"
   ]
  },
  {
   "cell_type": "code",
   "execution_count": 9,
   "metadata": {},
   "outputs": [
    {
     "data": {
      "text/plain": [
       "Index(['Title', 'abstract', 'InterestValue', 'CiteCount', 'RecomCount',\n",
       "       'ReadCount', 'ResearcherURL'],\n",
       "      dtype='object')"
      ]
     },
     "execution_count": 9,
     "metadata": {},
     "output_type": "execute_result"
    }
   ],
   "source": [
    "data.columns"
   ]
  },
  {
   "cell_type": "code",
   "execution_count": null,
   "metadata": {},
   "outputs": [],
   "source": []
  },
  {
   "cell_type": "code",
   "execution_count": 10,
   "metadata": {},
   "outputs": [],
   "source": [
    "data['title_abs']=data['Title']+data['abstract']"
   ]
  },
  {
   "cell_type": "code",
   "execution_count": 11,
   "metadata": {},
   "outputs": [],
   "source": [
    "text=[]\n",
    "for i in range(data.shape[0]):\n",
    "    text.append( data['title_abs'].iloc[i])"
   ]
  },
  {
   "cell_type": "code",
   "execution_count": 12,
   "metadata": {},
   "outputs": [],
   "source": [
    "cleantext=[]\n",
    "for i in text:\n",
    "    cleantext.append(clean_englisth(i))"
   ]
  },
  {
   "cell_type": "code",
   "execution_count": 13,
   "metadata": {},
   "outputs": [],
   "source": [
    "for i in range(data.shape[0]):\n",
    "    data.iloc[i,7]=cleantext[i]\n",
    "data.to_excel('clean_article.xlsx',index=None)"
   ]
  },
  {
   "cell_type": "code",
   "execution_count": 14,
   "metadata": {},
   "outputs": [],
   "source": [
    "with open('wiki.en.text','a') as f:\n",
    "    for i in cleantext:\n",
    "        f.write(i)"
   ]
  },
  {
   "cell_type": "code",
   "execution_count": null,
   "metadata": {},
   "outputs": [],
   "source": []
  }
 ],
 "metadata": {
  "kernelspec": {
   "display_name": "Python 3",
   "language": "python",
   "name": "python3"
  },
  "language_info": {
   "codemirror_mode": {
    "name": "ipython",
    "version": 3
   },
   "file_extension": ".py",
   "mimetype": "text/x-python",
   "name": "python",
   "nbconvert_exporter": "python",
   "pygments_lexer": "ipython3",
   "version": "3.7.4"
  },
  "toc": {
   "base_numbering": 1,
   "nav_menu": {},
   "number_sections": true,
   "sideBar": true,
   "skip_h1_title": false,
   "title_cell": "Table of Contents",
   "title_sidebar": "Contents",
   "toc_cell": false,
   "toc_position": {},
   "toc_section_display": true,
   "toc_window_display": false
  },
  "varInspector": {
   "cols": {
    "lenName": 16,
    "lenType": 16,
    "lenVar": 40
   },
   "kernels_config": {
    "python": {
     "delete_cmd_postfix": "",
     "delete_cmd_prefix": "del ",
     "library": "var_list.py",
     "varRefreshCmd": "print(var_dic_list())"
    },
    "r": {
     "delete_cmd_postfix": ") ",
     "delete_cmd_prefix": "rm(",
     "library": "var_list.r",
     "varRefreshCmd": "cat(var_dic_list()) "
    }
   },
   "types_to_exclude": [
    "module",
    "function",
    "builtin_function_or_method",
    "instance",
    "_Feature"
   ],
   "window_display": false
  }
 },
 "nbformat": 4,
 "nbformat_minor": 2
}
