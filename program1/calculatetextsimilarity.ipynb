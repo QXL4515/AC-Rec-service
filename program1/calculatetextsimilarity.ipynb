{
 "cells": [
  {
   "cell_type": "code",
   "execution_count": 1,
   "metadata": {},
   "outputs": [
    {
     "data": {
      "text/html": [
       "<div>\n",
       "<style scoped>\n",
       "    .dataframe tbody tr th:only-of-type {\n",
       "        vertical-align: middle;\n",
       "    }\n",
       "\n",
       "    .dataframe tbody tr th {\n",
       "        vertical-align: top;\n",
       "    }\n",
       "\n",
       "    .dataframe thead th {\n",
       "        text-align: right;\n",
       "    }\n",
       "</style>\n",
       "<table border=\"1\" class=\"dataframe\">\n",
       "  <thead>\n",
       "    <tr style=\"text-align: right;\">\n",
       "      <th></th>\n",
       "      <th>Title</th>\n",
       "      <th>abstract</th>\n",
       "      <th>InterestValue</th>\n",
       "      <th>CiteCount</th>\n",
       "      <th>RecomCount</th>\n",
       "      <th>ReadCount</th>\n",
       "      <th>ResearcherURL</th>\n",
       "      <th>title_abs</th>\n",
       "    </tr>\n",
       "  </thead>\n",
       "  <tbody>\n",
       "    <tr>\n",
       "      <td>0</td>\n",
       "      <td>Approximate Analytical Solutions of Space-Frac...</td>\n",
       "      <td>The main goal in this work is to establish a n...</td>\n",
       "      <td>13.9</td>\n",
       "      <td>0</td>\n",
       "      <td>5</td>\n",
       "      <td>275</td>\n",
       "      <td>https://www.researchgate.net/profile/Shirzoi_A...</td>\n",
       "      <td>approximate analytical solutions of space frac...</td>\n",
       "    </tr>\n",
       "    <tr>\n",
       "      <td>1</td>\n",
       "      <td>Poroelastic analysis on mesoscopic flow intera...</td>\n",
       "      <td>The wave-induced interlayer flow between mesos...</td>\n",
       "      <td>1.2</td>\n",
       "      <td>0</td>\n",
       "      <td>1</td>\n",
       "      <td>35</td>\n",
       "      <td>https://www.researchgate.net/profile/Chenghao_Cao</td>\n",
       "      <td>poroelastic analysis on mesoscopic flow intera...</td>\n",
       "    </tr>\n",
       "    <tr>\n",
       "      <td>2</td>\n",
       "      <td>A nonlinear method for multiparameter inversio...</td>\n",
       "      <td>Multiparameter inversion for pre-stack seismic...</td>\n",
       "      <td>2.6</td>\n",
       "      <td>4</td>\n",
       "      <td>0</td>\n",
       "      <td>22</td>\n",
       "      <td>https://www.researchgate.net/profile/Chenghao_Cao</td>\n",
       "      <td>a nonlinear method for multiparameter inversio...</td>\n",
       "    </tr>\n",
       "    <tr>\n",
       "      <td>3</td>\n",
       "      <td>Prestack density inversion using the Fatti equ...</td>\n",
       "      <td>Simultaneous prestack inversion is based on th...</td>\n",
       "      <td>3.0</td>\n",
       "      <td>2</td>\n",
       "      <td>0</td>\n",
       "      <td>59</td>\n",
       "      <td>https://www.researchgate.net/profile/Chenghao_Cao</td>\n",
       "      <td>prestack density inversion using the fatti equ...</td>\n",
       "    </tr>\n",
       "    <tr>\n",
       "      <td>4</td>\n",
       "      <td>Interaction of multiple courses of wave‐induce...</td>\n",
       "      <td>Different theoretical and laboratory studies o...</td>\n",
       "      <td>0.6</td>\n",
       "      <td>0</td>\n",
       "      <td>0</td>\n",
       "      <td>33</td>\n",
       "      <td>https://www.researchgate.net/profile/Chenghao_Cao</td>\n",
       "      <td>interaction of multiple courses of wave induce...</td>\n",
       "    </tr>\n",
       "  </tbody>\n",
       "</table>\n",
       "</div>"
      ],
      "text/plain": [
       "                                               Title  \\\n",
       "0  Approximate Analytical Solutions of Space-Frac...   \n",
       "1  Poroelastic analysis on mesoscopic flow intera...   \n",
       "2  A nonlinear method for multiparameter inversio...   \n",
       "3  Prestack density inversion using the Fatti equ...   \n",
       "4  Interaction of multiple courses of wave‐induce...   \n",
       "\n",
       "                                            abstract InterestValue  CiteCount  \\\n",
       "0  The main goal in this work is to establish a n...          13.9          0   \n",
       "1  The wave-induced interlayer flow between mesos...           1.2          0   \n",
       "2  Multiparameter inversion for pre-stack seismic...           2.6          4   \n",
       "3  Simultaneous prestack inversion is based on th...           3.0          2   \n",
       "4  Different theoretical and laboratory studies o...           0.6          0   \n",
       "\n",
       "   RecomCount ReadCount                                      ResearcherURL  \\\n",
       "0           5       275  https://www.researchgate.net/profile/Shirzoi_A...   \n",
       "1           1        35  https://www.researchgate.net/profile/Chenghao_Cao   \n",
       "2           0        22  https://www.researchgate.net/profile/Chenghao_Cao   \n",
       "3           0        59  https://www.researchgate.net/profile/Chenghao_Cao   \n",
       "4           0        33  https://www.researchgate.net/profile/Chenghao_Cao   \n",
       "\n",
       "                                           title_abs  \n",
       "0  approximate analytical solutions of space frac...  \n",
       "1  poroelastic analysis on mesoscopic flow intera...  \n",
       "2  a nonlinear method for multiparameter inversio...  \n",
       "3  prestack density inversion using the fatti equ...  \n",
       "4  interaction of multiple courses of wave induce...  "
      ]
     },
     "execution_count": 1,
     "metadata": {},
     "output_type": "execute_result"
    }
   ],
   "source": [
    "import pandas as pd\n",
    "from gensim.models import Doc2Vec\n",
    "import numpy as np\n",
    "\n",
    "from string import digits\n",
    "data=pd.read_excel(\"clean_article.xlsx\")\n",
    "data.dropna(how='any',inplace=True)\n",
    "data.shape\n",
    "data.head()"
   ]
  },
  {
   "cell_type": "code",
   "execution_count": null,
   "metadata": {},
   "outputs": [],
   "source": []
  },
  {
   "cell_type": "code",
   "execution_count": 2,
   "metadata": {},
   "outputs": [],
   "source": [
    "def getname(x):\n",
    "    x=x.replace('https://www.researchgate.net/profile/','')\n",
    "    x=x.replace('_',' ')\n",
    "#     remove_digits = str.maketrans('', '', digits)\n",
    "#     x=x.translate(remove_digits)\n",
    "    return x\n",
    "    "
   ]
  },
  {
   "cell_type": "code",
   "execution_count": 3,
   "metadata": {},
   "outputs": [],
   "source": [
    "data['Researcher']=data['ResearcherURL'].apply(lambda x: getname(x))"
   ]
  },
  {
   "cell_type": "code",
   "execution_count": 4,
   "metadata": {},
   "outputs": [],
   "source": [
    "newdata=data.groupby(data['Researcher'])['title_abs'].apply(lambda x:' '.join(x))"
   ]
  },
  {
   "cell_type": "code",
   "execution_count": 5,
   "metadata": {},
   "outputs": [
    {
     "data": {
      "text/html": [
       "<div>\n",
       "<style scoped>\n",
       "    .dataframe tbody tr th:only-of-type {\n",
       "        vertical-align: middle;\n",
       "    }\n",
       "\n",
       "    .dataframe tbody tr th {\n",
       "        vertical-align: top;\n",
       "    }\n",
       "\n",
       "    .dataframe thead th {\n",
       "        text-align: right;\n",
       "    }\n",
       "</style>\n",
       "<table border=\"1\" class=\"dataframe\">\n",
       "  <thead>\n",
       "    <tr style=\"text-align: right;\">\n",
       "      <th></th>\n",
       "      <th>title_abs</th>\n",
       "    </tr>\n",
       "    <tr>\n",
       "      <th>Researcher</th>\n",
       "      <th></th>\n",
       "    </tr>\n",
       "  </thead>\n",
       "  <tbody>\n",
       "    <tr>\n",
       "      <td>Abduelrahman Omer</td>\n",
       "      <td>cu n codoped tio2 prepared by the sol gel meth...</td>\n",
       "    </tr>\n",
       "    <tr>\n",
       "      <td>Abdul Wahab100</td>\n",
       "      <td>seismic behavior of renovated rc frame structu...</td>\n",
       "    </tr>\n",
       "    <tr>\n",
       "      <td>Abdulwasea Alkhazzan</td>\n",
       "      <td>existence and stability of a positive solution...</td>\n",
       "    </tr>\n",
       "    <tr>\n",
       "      <td>Abednego Acheampong</td>\n",
       "      <td>a comprehensive study of optimal linear pre co...</td>\n",
       "    </tr>\n",
       "    <tr>\n",
       "      <td>Ahmed Elshaikh</td>\n",
       "      <td>the potential role for hydro economic projects...</td>\n",
       "    </tr>\n",
       "  </tbody>\n",
       "</table>\n",
       "</div>"
      ],
      "text/plain": [
       "                                                              title_abs\n",
       "Researcher                                                             \n",
       "Abduelrahman Omer     cu n codoped tio2 prepared by the sol gel meth...\n",
       "Abdul Wahab100        seismic behavior of renovated rc frame structu...\n",
       "Abdulwasea Alkhazzan  existence and stability of a positive solution...\n",
       "Abednego Acheampong   a comprehensive study of optimal linear pre co...\n",
       "Ahmed Elshaikh        the potential role for hydro economic projects..."
      ]
     },
     "execution_count": 5,
     "metadata": {},
     "output_type": "execute_result"
    }
   ],
   "source": [
    "pd.DataFrame(newdata).head()"
   ]
  },
  {
   "cell_type": "code",
   "execution_count": 6,
   "metadata": {},
   "outputs": [],
   "source": [
    "pd.DataFrame(newdata).to_excel('user_paper.xlsx')"
   ]
  },
  {
   "cell_type": "code",
   "execution_count": 7,
   "metadata": {},
   "outputs": [],
   "source": [
    "model = Doc2Vec.load(\"Doc2Vec.model\")"
   ]
  },
  {
   "cell_type": "code",
   "execution_count": 8,
   "metadata": {},
   "outputs": [],
   "source": [
    "def to_review_vector(text):\n",
    "    try:\n",
    "        words = text.split(\" \")\n",
    "    except:\n",
    "        words=[text]\n",
    "    newword=[]\n",
    "    for i in words:\n",
    "        try:\n",
    "            model[i]\n",
    "            newword.append(i)\n",
    "        except:\n",
    "            pass\n",
    "           \n",
    "    atemp=np.asarray([model[w] for w in newword ],dtype='float32').mean(axis=0)\n",
    "    if atemp.shape==():\n",
    "        print(text)\n",
    "    else:\n",
    "         return atemp"
   ]
  },
  {
   "cell_type": "code",
   "execution_count": 9,
   "metadata": {},
   "outputs": [
    {
     "data": {
      "text/html": [
       "<div>\n",
       "<style scoped>\n",
       "    .dataframe tbody tr th:only-of-type {\n",
       "        vertical-align: middle;\n",
       "    }\n",
       "\n",
       "    .dataframe tbody tr th {\n",
       "        vertical-align: top;\n",
       "    }\n",
       "\n",
       "    .dataframe thead th {\n",
       "        text-align: right;\n",
       "    }\n",
       "</style>\n",
       "<table border=\"1\" class=\"dataframe\">\n",
       "  <thead>\n",
       "    <tr style=\"text-align: right;\">\n",
       "      <th></th>\n",
       "      <th>Researcher</th>\n",
       "      <th>title_abs</th>\n",
       "    </tr>\n",
       "  </thead>\n",
       "  <tbody>\n",
       "    <tr>\n",
       "      <td>0</td>\n",
       "      <td>Abduelrahman Omer</td>\n",
       "      <td>cu n codoped tio2 prepared by the sol gel meth...</td>\n",
       "    </tr>\n",
       "    <tr>\n",
       "      <td>1</td>\n",
       "      <td>Abdul Wahab100</td>\n",
       "      <td>seismic behavior of renovated rc frame structu...</td>\n",
       "    </tr>\n",
       "    <tr>\n",
       "      <td>2</td>\n",
       "      <td>Abdulwasea Alkhazzan</td>\n",
       "      <td>existence and stability of a positive solution...</td>\n",
       "    </tr>\n",
       "    <tr>\n",
       "      <td>3</td>\n",
       "      <td>Abednego Acheampong</td>\n",
       "      <td>a comprehensive study of optimal linear pre co...</td>\n",
       "    </tr>\n",
       "    <tr>\n",
       "      <td>4</td>\n",
       "      <td>Ahmed Elshaikh</td>\n",
       "      <td>the potential role for hydro economic projects...</td>\n",
       "    </tr>\n",
       "  </tbody>\n",
       "</table>\n",
       "</div>"
      ],
      "text/plain": [
       "             Researcher                                          title_abs\n",
       "0     Abduelrahman Omer  cu n codoped tio2 prepared by the sol gel meth...\n",
       "1        Abdul Wahab100  seismic behavior of renovated rc frame structu...\n",
       "2  Abdulwasea Alkhazzan  existence and stability of a positive solution...\n",
       "3   Abednego Acheampong  a comprehensive study of optimal linear pre co...\n",
       "4        Ahmed Elshaikh  the potential role for hydro economic projects..."
      ]
     },
     "execution_count": 9,
     "metadata": {},
     "output_type": "execute_result"
    }
   ],
   "source": [
    "data=pd.read_excel('user_paper.xlsx')\n",
    "data.head()"
   ]
  },
  {
   "cell_type": "code",
   "execution_count": 10,
   "metadata": {},
   "outputs": [],
   "source": [
    "train_data_Doc2Vec = [to_review_vector(text) for text in data['title_abs']]"
   ]
  },
  {
   "cell_type": "code",
   "execution_count": 11,
   "metadata": {},
   "outputs": [],
   "source": [
    "def cosine(_vec1, _vec2):\n",
    "  \n",
    "  return float(np.sum(_vec1*_vec2))/(np.linalg.norm(_vec1)*np.linalg.norm(_vec2))"
   ]
  },
  {
   "cell_type": "code",
   "execution_count": null,
   "metadata": {},
   "outputs": [],
   "source": []
  },
  {
   "cell_type": "code",
   "execution_count": 12,
   "metadata": {
    "scrolled": true
   },
   "outputs": [
    {
     "name": "stdout",
     "output_type": "stream",
     "text": [
      "0\n",
      "10\n",
      "20\n",
      "30\n",
      "40\n",
      "50\n",
      "60\n",
      "70\n",
      "80\n",
      "90\n",
      "100\n",
      "110\n",
      "120\n",
      "130\n",
      "140\n",
      "150\n",
      "160\n",
      "170\n",
      "180\n",
      "190\n",
      "200\n",
      "210\n",
      "220\n",
      "230\n",
      "240\n",
      "250\n",
      "260\n",
      "270\n",
      "280\n",
      "290\n",
      "300\n",
      "310\n",
      "320\n",
      "330\n",
      "340\n",
      "350\n",
      "360\n",
      "370\n",
      "380\n",
      "390\n",
      "400\n",
      "410\n",
      "420\n",
      "430\n",
      "440\n",
      "450\n",
      "460\n",
      "470\n",
      "480\n",
      "490\n",
      "500\n",
      "510\n",
      "520\n",
      "530\n",
      "540\n",
      "550\n",
      "560\n",
      "570\n",
      "580\n",
      "590\n",
      "600\n",
      "610\n",
      "620\n",
      "630\n",
      "640\n",
      "650\n",
      "660\n",
      "670\n",
      "680\n",
      "690\n",
      "700\n",
      "710\n",
      "720\n",
      "730\n",
      "740\n",
      "750\n",
      "760\n",
      "770\n",
      "780\n",
      "790\n",
      "800\n",
      "810\n",
      "820\n",
      "830\n",
      "840\n",
      "850\n",
      "860\n",
      "870\n",
      "880\n",
      "890\n",
      "900\n",
      "910\n"
     ]
    }
   ],
   "source": [
    "Similarity_matrix=[]\n",
    "for i in range(len(train_data_Doc2Vec)):\n",
    "    if i%10==0:\n",
    "        print(i)\n",
    "    Similarity_matrix_axis=[]\n",
    "    for j in range(len(train_data_Doc2Vec)):\n",
    "        Similarity_matrix_axis.append(cosine(train_data_Doc2Vec[i], train_data_Doc2Vec[j]))\n",
    "    Similarity_matrix.append(Similarity_matrix_axis)\n",
    "    "
   ]
  },
  {
   "cell_type": "code",
   "execution_count": 13,
   "metadata": {},
   "outputs": [],
   "source": [
    "m=np.array(Similarity_matrix)\n",
    "np.save('Similarity_matrix.npy',m)"
   ]
  },
  {
   "cell_type": "code",
   "execution_count": 14,
   "metadata": {},
   "outputs": [],
   "source": [
    "a=np.load('Similarity_matrix.npy')\n",
    "Similarity_matrix=a.tolist()"
   ]
  },
  {
   "cell_type": "code",
   "execution_count": null,
   "metadata": {},
   "outputs": [],
   "source": []
  },
  {
   "cell_type": "code",
   "execution_count": null,
   "metadata": {},
   "outputs": [],
   "source": []
  }
 ],
 "metadata": {
  "kernelspec": {
   "display_name": "Python 3",
   "language": "python",
   "name": "python3"
  },
  "language_info": {
   "codemirror_mode": {
    "name": "ipython",
    "version": 3
   },
   "file_extension": ".py",
   "mimetype": "text/x-python",
   "name": "python",
   "nbconvert_exporter": "python",
   "pygments_lexer": "ipython3",
   "version": "3.7.4"
  },
  "toc": {
   "base_numbering": 1,
   "nav_menu": {},
   "number_sections": true,
   "sideBar": true,
   "skip_h1_title": false,
   "title_cell": "Table of Contents",
   "title_sidebar": "Contents",
   "toc_cell": false,
   "toc_position": {},
   "toc_section_display": true,
   "toc_window_display": false
  },
  "varInspector": {
   "cols": {
    "lenName": 16,
    "lenType": 16,
    "lenVar": 40
   },
   "kernels_config": {
    "python": {
     "delete_cmd_postfix": "",
     "delete_cmd_prefix": "del ",
     "library": "var_list.py",
     "varRefreshCmd": "print(var_dic_list())"
    },
    "r": {
     "delete_cmd_postfix": ") ",
     "delete_cmd_prefix": "rm(",
     "library": "var_list.r",
     "varRefreshCmd": "cat(var_dic_list()) "
    }
   },
   "types_to_exclude": [
    "module",
    "function",
    "builtin_function_or_method",
    "instance",
    "_Feature"
   ],
   "window_display": false
  }
 },
 "nbformat": 4,
 "nbformat_minor": 2
}
