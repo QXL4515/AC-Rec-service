{
 "cells": [
  {
   "cell_type": "code",
   "execution_count": 1,
   "metadata": {
    "scrolled": true
   },
   "outputs": [
    {
     "data": {
      "text/html": [
       "<div>\n",
       "<style scoped>\n",
       "    .dataframe tbody tr th:only-of-type {\n",
       "        vertical-align: middle;\n",
       "    }\n",
       "\n",
       "    .dataframe tbody tr th {\n",
       "        vertical-align: top;\n",
       "    }\n",
       "\n",
       "    .dataframe thead th {\n",
       "        text-align: right;\n",
       "    }\n",
       "</style>\n",
       "<table border=\"1\" class=\"dataframe\">\n",
       "  <thead>\n",
       "    <tr style=\"text-align: right;\">\n",
       "      <th></th>\n",
       "      <th>Unnamed: 0</th>\n",
       "      <th>Unnamed: 0.1</th>\n",
       "      <th>ResearchName</th>\n",
       "      <th>topics</th>\n",
       "      <th>Skills</th>\n",
       "      <th>InterestValue</th>\n",
       "      <th>CiteCount</th>\n",
       "      <th>RecomCount</th>\n",
       "      <th>ItemCount</th>\n",
       "      <th>FollowingCount</th>\n",
       "      <th>FollowerCount</th>\n",
       "      <th>ResearcherURL</th>\n",
       "      <th>Activity</th>\n",
       "      <th>mapping</th>\n",
       "      <th>label_text</th>\n",
       "    </tr>\n",
       "  </thead>\n",
       "  <tbody>\n",
       "    <tr>\n",
       "      <td>0</td>\n",
       "      <td>0</td>\n",
       "      <td>0</td>\n",
       "      <td>Jianbo Bai</td>\n",
       "      <td>Mechanical Engineering,Heat Transfer,Engineeri...</td>\n",
       "      <td>Modeling and Simulation,Thermal Engineering,He...</td>\n",
       "      <td>152.6</td>\n",
       "      <td>269</td>\n",
       "      <td>0</td>\n",
       "      <td>23</td>\n",
       "      <td>35</td>\n",
       "      <td>30</td>\n",
       "      <td>https://www.researchgate.net/profile/Jianbo_Bai</td>\n",
       "      <td>111.150</td>\n",
       "      <td>1.0</td>\n",
       "      <td>mechanical engineeringheat transferengineering...</td>\n",
       "    </tr>\n",
       "    <tr>\n",
       "      <td>1</td>\n",
       "      <td>1</td>\n",
       "      <td>5</td>\n",
       "      <td>Cuicui Ji</td>\n",
       "      <td>Mechanical Engineering,Materials Engineering,S...</td>\n",
       "      <td>Nonlinear Analysis,Time Series,Fractals,Fracta...</td>\n",
       "      <td>41.6</td>\n",
       "      <td>66</td>\n",
       "      <td>2</td>\n",
       "      <td>17</td>\n",
       "      <td>40</td>\n",
       "      <td>77</td>\n",
       "      <td>https://www.researchgate.net/profile/Cuicui_Ji</td>\n",
       "      <td>31.650</td>\n",
       "      <td>1.0</td>\n",
       "      <td>mechanical engineeringmaterials engineeringstr...</td>\n",
       "    </tr>\n",
       "    <tr>\n",
       "      <td>2</td>\n",
       "      <td>2</td>\n",
       "      <td>6</td>\n",
       "      <td>Song Qining</td>\n",
       "      <td>Materials Engineering</td>\n",
       "      <td>Material Characterization,Materials,Corrosion,...</td>\n",
       "      <td>121.5</td>\n",
       "      <td>106</td>\n",
       "      <td>9</td>\n",
       "      <td>27</td>\n",
       "      <td>39</td>\n",
       "      <td>50</td>\n",
       "      <td>https://www.researchgate.net/profile/Song_Qining</td>\n",
       "      <td>65.875</td>\n",
       "      <td>1.0</td>\n",
       "      <td>materials engineeringmaterial characterization...</td>\n",
       "    </tr>\n",
       "    <tr>\n",
       "      <td>3</td>\n",
       "      <td>3</td>\n",
       "      <td>8</td>\n",
       "      <td>Yanqin Shangguan</td>\n",
       "      <td>Mechanical Engineering,Aerospace Engineering,A...</td>\n",
       "      <td>Fluid Mechanics,Computational Fluid Dynamics,N...</td>\n",
       "      <td>40.1</td>\n",
       "      <td>28</td>\n",
       "      <td>4</td>\n",
       "      <td>10</td>\n",
       "      <td>73</td>\n",
       "      <td>32</td>\n",
       "      <td>https://www.researchgate.net/profile/Yanqin_Sh...</td>\n",
       "      <td>20.525</td>\n",
       "      <td>1.0</td>\n",
       "      <td>mechanical engineeringaerospace engineeringaer...</td>\n",
       "    </tr>\n",
       "    <tr>\n",
       "      <td>4</td>\n",
       "      <td>4</td>\n",
       "      <td>13</td>\n",
       "      <td>Imran Dawy</td>\n",
       "      <td>Electrical Engineering,Artificial Intelligence...</td>\n",
       "      <td>MATLAB Simulation,Control Theory,Robotics,Auto...</td>\n",
       "      <td>1.7</td>\n",
       "      <td>0</td>\n",
       "      <td>0</td>\n",
       "      <td>2</td>\n",
       "      <td>25</td>\n",
       "      <td>8</td>\n",
       "      <td>https://www.researchgate.net/profile/Imran_Dawy</td>\n",
       "      <td>0.925</td>\n",
       "      <td>1.0</td>\n",
       "      <td>electrical engineeringartificial intelligencea...</td>\n",
       "    </tr>\n",
       "  </tbody>\n",
       "</table>\n",
       "</div>"
      ],
      "text/plain": [
       "   Unnamed: 0  Unnamed: 0.1      ResearchName  \\\n",
       "0           0             0        Jianbo Bai   \n",
       "1           1             5         Cuicui Ji   \n",
       "2           2             6       Song Qining   \n",
       "3           3             8  Yanqin Shangguan   \n",
       "4           4            13        Imran Dawy   \n",
       "\n",
       "                                              topics  \\\n",
       "0  Mechanical Engineering,Heat Transfer,Engineeri...   \n",
       "1  Mechanical Engineering,Materials Engineering,S...   \n",
       "2                              Materials Engineering   \n",
       "3  Mechanical Engineering,Aerospace Engineering,A...   \n",
       "4  Electrical Engineering,Artificial Intelligence...   \n",
       "\n",
       "                                              Skills  InterestValue  \\\n",
       "0  Modeling and Simulation,Thermal Engineering,He...          152.6   \n",
       "1  Nonlinear Analysis,Time Series,Fractals,Fracta...           41.6   \n",
       "2  Material Characterization,Materials,Corrosion,...          121.5   \n",
       "3  Fluid Mechanics,Computational Fluid Dynamics,N...           40.1   \n",
       "4  MATLAB Simulation,Control Theory,Robotics,Auto...            1.7   \n",
       "\n",
       "   CiteCount  RecomCount  ItemCount  FollowingCount  FollowerCount  \\\n",
       "0        269           0         23              35             30   \n",
       "1         66           2         17              40             77   \n",
       "2        106           9         27              39             50   \n",
       "3         28           4         10              73             32   \n",
       "4          0           0          2              25              8   \n",
       "\n",
       "                                       ResearcherURL  Activity  mapping  \\\n",
       "0    https://www.researchgate.net/profile/Jianbo_Bai   111.150      1.0   \n",
       "1     https://www.researchgate.net/profile/Cuicui_Ji    31.650      1.0   \n",
       "2   https://www.researchgate.net/profile/Song_Qining    65.875      1.0   \n",
       "3  https://www.researchgate.net/profile/Yanqin_Sh...    20.525      1.0   \n",
       "4    https://www.researchgate.net/profile/Imran_Dawy     0.925      1.0   \n",
       "\n",
       "                                          label_text  \n",
       "0  mechanical engineeringheat transferengineering...  \n",
       "1  mechanical engineeringmaterials engineeringstr...  \n",
       "2  materials engineeringmaterial characterization...  \n",
       "3  mechanical engineeringaerospace engineeringaer...  \n",
       "4  electrical engineeringartificial intelligencea...  "
      ]
     },
     "execution_count": 1,
     "metadata": {},
     "output_type": "execute_result"
    }
   ],
   "source": [
    "import pandas as pd\n",
    "import numpy as np\n",
    "userdata=pd.read_csv('cleaneddd_user_mapping_following.csv')\n",
    "userdata.head()"
   ]
  },
  {
   "cell_type": "code",
   "execution_count": 3,
   "metadata": {},
   "outputs": [
    {
     "data": {
      "text/plain": [
       "Index(['Unnamed: 0', 'Unnamed: 0.1', 'ResearchName', 'topics', 'Skills',\n",
       "       'InterestValue', 'CiteCount', 'RecomCount', 'ItemCount',\n",
       "       'FollowingCount', 'FollowerCount', 'ResearcherURL', 'Activity',\n",
       "       'mapping', 'label_text'],\n",
       "      dtype='object')"
      ]
     },
     "execution_count": 3,
     "metadata": {},
     "output_type": "execute_result"
    }
   ],
   "source": [
    "userdata.columns"
   ]
  },
  {
   "cell_type": "code",
   "execution_count": 4,
   "metadata": {},
   "outputs": [
    {
     "data": {
      "text/html": [
       "<div>\n",
       "<style scoped>\n",
       "    .dataframe tbody tr th:only-of-type {\n",
       "        vertical-align: middle;\n",
       "    }\n",
       "\n",
       "    .dataframe tbody tr th {\n",
       "        vertical-align: top;\n",
       "    }\n",
       "\n",
       "    .dataframe thead th {\n",
       "        text-align: right;\n",
       "    }\n",
       "</style>\n",
       "<table border=\"1\" class=\"dataframe\">\n",
       "  <thead>\n",
       "    <tr style=\"text-align: right;\">\n",
       "      <th></th>\n",
       "      <th>ResearchName</th>\n",
       "      <th>Activity</th>\n",
       "      <th>label_text</th>\n",
       "    </tr>\n",
       "  </thead>\n",
       "  <tbody>\n",
       "    <tr>\n",
       "      <td>0</td>\n",
       "      <td>Jianbo Bai</td>\n",
       "      <td>111.150</td>\n",
       "      <td>mechanical engineeringheat transferengineering...</td>\n",
       "    </tr>\n",
       "    <tr>\n",
       "      <td>1</td>\n",
       "      <td>Cuicui Ji</td>\n",
       "      <td>31.650</td>\n",
       "      <td>mechanical engineeringmaterials engineeringstr...</td>\n",
       "    </tr>\n",
       "    <tr>\n",
       "      <td>2</td>\n",
       "      <td>Song Qining</td>\n",
       "      <td>65.875</td>\n",
       "      <td>materials engineeringmaterial characterization...</td>\n",
       "    </tr>\n",
       "    <tr>\n",
       "      <td>3</td>\n",
       "      <td>Yanqin Shangguan</td>\n",
       "      <td>20.525</td>\n",
       "      <td>mechanical engineeringaerospace engineeringaer...</td>\n",
       "    </tr>\n",
       "    <tr>\n",
       "      <td>4</td>\n",
       "      <td>Imran Dawy</td>\n",
       "      <td>0.925</td>\n",
       "      <td>electrical engineeringartificial intelligencea...</td>\n",
       "    </tr>\n",
       "  </tbody>\n",
       "</table>\n",
       "</div>"
      ],
      "text/plain": [
       "       ResearchName  Activity  \\\n",
       "0        Jianbo Bai   111.150   \n",
       "1         Cuicui Ji    31.650   \n",
       "2       Song Qining    65.875   \n",
       "3  Yanqin Shangguan    20.525   \n",
       "4        Imran Dawy     0.925   \n",
       "\n",
       "                                          label_text  \n",
       "0  mechanical engineeringheat transferengineering...  \n",
       "1  mechanical engineeringmaterials engineeringstr...  \n",
       "2  materials engineeringmaterial characterization...  \n",
       "3  mechanical engineeringaerospace engineeringaer...  \n",
       "4  electrical engineeringartificial intelligencea...  "
      ]
     },
     "execution_count": 4,
     "metadata": {},
     "output_type": "execute_result"
    }
   ],
   "source": [
    "userdata=userdata[[ 'ResearchName', 'Activity','label_text']]\n",
    "userdata.head()"
   ]
  },
  {
   "cell_type": "code",
   "execution_count": 6,
   "metadata": {},
   "outputs": [],
   "source": [
    "from gensim.models import Doc2Vec\n",
    "textsimdata=pd.read_excel('../program1/user_paper.xlsx')\n",
    "model = Doc2Vec.load(\"../program1/Doc2Vec.model\")\n",
    "def to_review_vector(text):\n",
    "    try:\n",
    "        words = text.split(\" \")\n",
    "    except:\n",
    "        words=[text]\n",
    "    newword=[]\n",
    "    for i in words:\n",
    "        try:\n",
    "            model[i]\n",
    "            newword.append(i)\n",
    "        except:\n",
    "            pass\n",
    "           \n",
    "    atemp=np.asarray([model[w] for w in newword ],dtype='float32').mean(axis=0)\n",
    "    if atemp.shape==():\n",
    "        print(text)\n",
    "    else:\n",
    "         return atemp\n",
    "train_data_Doc2Vec = [to_review_vector(text) for text in textsimdata['title_abs']]\n",
    "dic_paper={}\n",
    "for i in range(textsimdata.shape[0]):\n",
    "    dic_paper[textsimdata.iloc[i,0].replace('_',' ')]=train_data_Doc2Vec[i]\n",
    "dic_label={}\n",
    "train_data_Doc2Vec_label_text = [to_review_vector(text) for text in userdata['label_text']]    \n",
    "for i in range(userdata.shape[0]):\n",
    "    dic_label[userdata.iloc[i,0]]=train_data_Doc2Vec_label_text[i]\n",
    "\n",
    "def paper(_u1, _u2):\n",
    "    return float(np.sum(_u1*_u2))/(np.linalg.norm(_u1)*np.linalg.norm(_u2))\n",
    "\n",
    "def label(_u1, _u2):\n",
    "    return float(np.sum(_u1*_u2))/(np.linalg.norm(_u1)*np.linalg.norm(_u2))"
   ]
  },
  {
   "cell_type": "code",
   "execution_count": 7,
   "metadata": {},
   "outputs": [
    {
     "data": {
      "text/plain": [
       "0.5869747116197471"
      ]
     },
     "execution_count": 7,
     "metadata": {},
     "output_type": "execute_result"
    }
   ],
   "source": [
    "label(dic_label['Jianbo Bai'], dic_label['Cuicui Ji'])"
   ]
  },
  {
   "cell_type": "code",
   "execution_count": 8,
   "metadata": {},
   "outputs": [
    {
     "data": {
      "text/plain": [
       "0.9691875605966069"
      ]
     },
     "execution_count": 8,
     "metadata": {},
     "output_type": "execute_result"
    }
   ],
   "source": [
    "paper(dic_paper['Jianbo Bai'], dic_paper['Cuicui Ji'])"
   ]
  },
  {
   "cell_type": "code",
   "execution_count": 11,
   "metadata": {},
   "outputs": [
    {
     "data": {
      "text/html": [
       "<div>\n",
       "<style scoped>\n",
       "    .dataframe tbody tr th:only-of-type {\n",
       "        vertical-align: middle;\n",
       "    }\n",
       "\n",
       "    .dataframe tbody tr th {\n",
       "        vertical-align: top;\n",
       "    }\n",
       "\n",
       "    .dataframe thead th {\n",
       "        text-align: right;\n",
       "    }\n",
       "</style>\n",
       "<table border=\"1\" class=\"dataframe\">\n",
       "  <thead>\n",
       "    <tr style=\"text-align: right;\">\n",
       "      <th></th>\n",
       "      <th>ResearcherURL</th>\n",
       "      <th>FollowingURL</th>\n",
       "      <th>Researcher</th>\n",
       "      <th>Following</th>\n",
       "    </tr>\n",
       "  </thead>\n",
       "  <tbody>\n",
       "    <tr>\n",
       "      <td>0</td>\n",
       "      <td>https://www.researchgate.net/profile/Barakat_A...</td>\n",
       "      <td>https://www.researchgate.net/profile/Xinkun_Xu</td>\n",
       "      <td>Barakat Ameen</td>\n",
       "      <td>Xinkun Xu</td>\n",
       "    </tr>\n",
       "    <tr>\n",
       "      <td>1</td>\n",
       "      <td>https://www.researchgate.net/profile/Barakat_A...</td>\n",
       "      <td>https://www.researchgate.net/profile/Guoping_Tan</td>\n",
       "      <td>Barakat Ameen</td>\n",
       "      <td>Guoping Tan</td>\n",
       "    </tr>\n",
       "    <tr>\n",
       "      <td>2</td>\n",
       "      <td>https://www.researchgate.net/profile/Barakat_A...</td>\n",
       "      <td>https://www.researchgate.net/profile/Xiaoqin_Zeng</td>\n",
       "      <td>Barakat Ameen</td>\n",
       "      <td>Xiaoqin Zeng</td>\n",
       "    </tr>\n",
       "    <tr>\n",
       "      <td>3</td>\n",
       "      <td>https://www.researchgate.net/profile/Barakat_A...</td>\n",
       "      <td>https://www.researchgate.net/profile/Yu_Yf</td>\n",
       "      <td>Barakat Ameen</td>\n",
       "      <td>Yu Yf</td>\n",
       "    </tr>\n",
       "    <tr>\n",
       "      <td>4</td>\n",
       "      <td>https://www.researchgate.net/profile/Barakat_A...</td>\n",
       "      <td>https://www.researchgate.net/profile/Bing_Shi7</td>\n",
       "      <td>Barakat Ameen</td>\n",
       "      <td>Bing Shi7</td>\n",
       "    </tr>\n",
       "  </tbody>\n",
       "</table>\n",
       "</div>"
      ],
      "text/plain": [
       "                                       ResearcherURL  \\\n",
       "0  https://www.researchgate.net/profile/Barakat_A...   \n",
       "1  https://www.researchgate.net/profile/Barakat_A...   \n",
       "2  https://www.researchgate.net/profile/Barakat_A...   \n",
       "3  https://www.researchgate.net/profile/Barakat_A...   \n",
       "4  https://www.researchgate.net/profile/Barakat_A...   \n",
       "\n",
       "                                        FollowingURL     Researcher  \\\n",
       "0     https://www.researchgate.net/profile/Xinkun_Xu  Barakat Ameen   \n",
       "1   https://www.researchgate.net/profile/Guoping_Tan  Barakat Ameen   \n",
       "2  https://www.researchgate.net/profile/Xiaoqin_Zeng  Barakat Ameen   \n",
       "3         https://www.researchgate.net/profile/Yu_Yf  Barakat Ameen   \n",
       "4     https://www.researchgate.net/profile/Bing_Shi7  Barakat Ameen   \n",
       "\n",
       "      Following  \n",
       "0     Xinkun Xu  \n",
       "1   Guoping Tan  \n",
       "2  Xiaoqin Zeng  \n",
       "3         Yu Yf  \n",
       "4     Bing Shi7  "
      ]
     },
     "execution_count": 11,
     "metadata": {},
     "output_type": "execute_result"
    }
   ],
   "source": [
    "data_following=pd.read_excel('../program2/following_clean.xlsx')\n",
    "data_following.head()"
   ]
  },
  {
   "cell_type": "code",
   "execution_count": 12,
   "metadata": {},
   "outputs": [],
   "source": [
    "all_node=list(set(data_following['Researcher'].values.tolist()  +data_following['Following'].values.tolist()))\n",
    "all_node_dict={}\n",
    "for i in all_node:\n",
    "    temp={}\n",
    "    \n",
    "    data_A=data_following[data_following.Researcher==i]\n",
    "    \n",
    "    data_B=data_following[data_following.Following==i]\n",
    "\n",
    "    if data_A.shape[0]!=0:\n",
    "        for j in list(set(data_A['Following'].unique().tolist())):\n",
    "            temp[j]=1\n",
    "    if data_B.shape[0]!=0:\n",
    "        for k in list(set(data_B['Researcher'].unique().tolist())):\n",
    "            temp[k]=1\n",
    "    all_node_dict[i]=temp\n",
    "def PersonalRank(G, max_sim, root, max_step,u2='feature'):\n",
    "    alpha=0.85\n",
    "    rank = dict()\n",
    "    rank = {x:0 for x in G.keys()}\n",
    "    rank[root] = 1\n",
    "    for k in range(max_step):\n",
    "        tmp = {x:0 for x in G.keys()}\n",
    "       \n",
    "        for i, ri in G.items():\n",
    "            \n",
    "            for j, wij in ri.items():\n",
    "               \n",
    "                tmp[j] += alpha * rank[i] / (1.0 * len(ri))\n",
    "\n",
    "        tmp[root] += (1 - alpha)\n",
    "        rank = tmp\n",
    "    rankvalue=rank.values()\n",
    "    rankvalue_max=max(rankvalue)\n",
    "    rankvalue_min=min(rankvalue)\n",
    "    for key, value in rank.items():\n",
    "        rank[key]=  (value - rankvalue_min) / (rankvalue_max - rankvalue_min)\n",
    "    if u2=='feature':\n",
    "        rank=sorted(rank.items(), key=lambda d:d[1], reverse=True)[1:max_sim+1]\n",
    "        return rank\n",
    "    else:\n",
    "        return rank[u2]\n",
    "       \n",
    "        \n"
   ]
  },
  {
   "cell_type": "code",
   "execution_count": 16,
   "metadata": {},
   "outputs": [
    {
     "data": {
      "text/html": [
       "<div>\n",
       "<style scoped>\n",
       "    .dataframe tbody tr th:only-of-type {\n",
       "        vertical-align: middle;\n",
       "    }\n",
       "\n",
       "    .dataframe tbody tr th {\n",
       "        vertical-align: top;\n",
       "    }\n",
       "\n",
       "    .dataframe thead th {\n",
       "        text-align: right;\n",
       "    }\n",
       "</style>\n",
       "<table border=\"1\" class=\"dataframe\">\n",
       "  <thead>\n",
       "    <tr style=\"text-align: right;\">\n",
       "      <th></th>\n",
       "      <th>ResearchName</th>\n",
       "      <th>Activity</th>\n",
       "      <th>label_text</th>\n",
       "    </tr>\n",
       "  </thead>\n",
       "  <tbody>\n",
       "    <tr>\n",
       "      <td>0</td>\n",
       "      <td>Jianbo Bai</td>\n",
       "      <td>111.150</td>\n",
       "      <td>mechanical engineeringheat transferengineering...</td>\n",
       "    </tr>\n",
       "    <tr>\n",
       "      <td>1</td>\n",
       "      <td>Cuicui Ji</td>\n",
       "      <td>31.650</td>\n",
       "      <td>mechanical engineeringmaterials engineeringstr...</td>\n",
       "    </tr>\n",
       "    <tr>\n",
       "      <td>2</td>\n",
       "      <td>Song Qining</td>\n",
       "      <td>65.875</td>\n",
       "      <td>materials engineeringmaterial characterization...</td>\n",
       "    </tr>\n",
       "    <tr>\n",
       "      <td>3</td>\n",
       "      <td>Yanqin Shangguan</td>\n",
       "      <td>20.525</td>\n",
       "      <td>mechanical engineeringaerospace engineeringaer...</td>\n",
       "    </tr>\n",
       "    <tr>\n",
       "      <td>4</td>\n",
       "      <td>Imran Dawy</td>\n",
       "      <td>0.925</td>\n",
       "      <td>electrical engineeringartificial intelligencea...</td>\n",
       "    </tr>\n",
       "  </tbody>\n",
       "</table>\n",
       "</div>"
      ],
      "text/plain": [
       "       ResearchName  Activity  \\\n",
       "0        Jianbo Bai   111.150   \n",
       "1         Cuicui Ji    31.650   \n",
       "2       Song Qining    65.875   \n",
       "3  Yanqin Shangguan    20.525   \n",
       "4        Imran Dawy     0.925   \n",
       "\n",
       "                                          label_text  \n",
       "0  mechanical engineeringheat transferengineering...  \n",
       "1  mechanical engineeringmaterials engineeringstr...  \n",
       "2  materials engineeringmaterial characterization...  \n",
       "3  mechanical engineeringaerospace engineeringaer...  \n",
       "4  electrical engineeringartificial intelligencea...  "
      ]
     },
     "execution_count": 16,
     "metadata": {},
     "output_type": "execute_result"
    }
   ],
   "source": [
    "userdata.head()"
   ]
  },
  {
   "cell_type": "code",
   "execution_count": 17,
   "metadata": {},
   "outputs": [],
   "source": [
    "all_user=[]\n",
    "for i in range(userdata.shape[0]):\n",
    "    all_user.append(userdata.iloc[i,0])\n"
   ]
  },
  {
   "cell_type": "code",
   "execution_count": 18,
   "metadata": {},
   "outputs": [],
   "source": [
    "def getu_2_active(username):\n",
    "    u_2_active=userdata[userdata.ResearchName==username].iloc[0,1]\n",
    "    return u_2_active\n"
   ]
  },
  {
   "cell_type": "code",
   "execution_count": 19,
   "metadata": {},
   "outputs": [
    {
     "data": {
      "text/plain": [
       "111.15"
      ]
     },
     "execution_count": 19,
     "metadata": {},
     "output_type": "execute_result"
    }
   ],
   "source": [
    "getu_2_active('Jianbo Bai')"
   ]
  },
  {
   "cell_type": "code",
   "execution_count": 20,
   "metadata": {},
   "outputs": [
    {
     "data": {
      "text/plain": [
       "238"
      ]
     },
     "execution_count": 20,
     "metadata": {},
     "output_type": "execute_result"
    }
   ],
   "source": [
    "len(all_user)"
   ]
  },
  {
   "cell_type": "code",
   "execution_count": 21,
   "metadata": {
    "scrolled": true
   },
   "outputs": [
    {
     "name": "stdout",
     "output_type": "stream",
     "text": [
      "进度：0/238\n",
      "进度：10/238\n",
      "进度：20/238\n",
      "进度：30/238\n",
      "进度：40/238\n",
      "进度：50/238\n",
      "进度：60/238\n",
      "进度：70/238\n",
      "进度：80/238\n",
      "进度：90/238\n",
      "进度：100/238\n",
      "进度：110/238\n",
      "进度：120/238\n",
      "进度：130/238\n",
      "进度：140/238\n",
      "进度：150/238\n",
      "进度：160/238\n",
      "进度：170/238\n",
      "进度：180/238\n",
      "进度：190/238\n",
      "进度：200/238\n",
      "进度：210/238\n",
      "进度：220/238\n",
      "进度：230/238\n",
      "Wall time: 8min 39s\n"
     ]
    }
   ],
   "source": [
    "%%time\n",
    "with open('all_traindata111.csv','a') as f: \n",
    "    for i in range(len(all_user)):\n",
    "        if i%10==0:\n",
    "            print('进度：{}/238'.format(i))     \n",
    "        try:\n",
    "            for k in range(i+1,len(all_user)):\n",
    "                u1=all_user[i]\n",
    "                u2=all_user[k]\n",
    "                Paper_similarity=paper(dic_paper[u1],dic_paper[u2])\n",
    "                Social_similarity=PersonalRank(G, 10, u1, 5,u2)\n",
    "\n",
    "                active=getu_2_active(u2)\n",
    "\n",
    "                ulabel=label(dic_label[u1],dic_label[u2])        \n",
    "                f.write(str(u1)+','+str(u2)+','+str(Paper_similarity)+','+str(Social_similarity)+','+str(active)+','+str(ulabel)+'\\n')\n",
    "        except:\n",
    "            pass\n"
   ]
  },
  {
   "cell_type": "code",
   "execution_count": null,
   "metadata": {},
   "outputs": [],
   "source": []
  },
  {
   "cell_type": "code",
   "execution_count": 113,
   "metadata": {},
   "outputs": [],
   "source": []
  },
  {
   "cell_type": "code",
   "execution_count": 117,
   "metadata": {},
   "outputs": [],
   "source": [
    "\n"
   ]
  },
  {
   "cell_type": "code",
   "execution_count": null,
   "metadata": {},
   "outputs": [],
   "source": []
  }
 ],
 "metadata": {
  "kernelspec": {
   "display_name": "Python 3",
   "language": "python",
   "name": "python3"
  },
  "language_info": {
   "codemirror_mode": {
    "name": "ipython",
    "version": 3
   },
   "file_extension": ".py",
   "mimetype": "text/x-python",
   "name": "python",
   "nbconvert_exporter": "python",
   "pygments_lexer": "ipython3",
   "version": "3.7.4"
  },
  "toc": {
   "base_numbering": 1,
   "nav_menu": {},
   "number_sections": true,
   "sideBar": true,
   "skip_h1_title": false,
   "title_cell": "Table of Contents",
   "title_sidebar": "Contents",
   "toc_cell": false,
   "toc_position": {},
   "toc_section_display": true,
   "toc_window_display": false
  },
  "varInspector": {
   "cols": {
    "lenName": 16,
    "lenType": 16,
    "lenVar": 40
   },
   "kernels_config": {
    "python": {
     "delete_cmd_postfix": "",
     "delete_cmd_prefix": "del ",
     "library": "var_list.py",
     "varRefreshCmd": "print(var_dic_list())"
    },
    "r": {
     "delete_cmd_postfix": ") ",
     "delete_cmd_prefix": "rm(",
     "library": "var_list.r",
     "varRefreshCmd": "cat(var_dic_list()) "
    }
   },
   "types_to_exclude": [
    "module",
    "function",
    "builtin_function_or_method",
    "instance",
    "_Feature"
   ],
   "window_display": false
  }
 },
 "nbformat": 4,
 "nbformat_minor": 2
}
