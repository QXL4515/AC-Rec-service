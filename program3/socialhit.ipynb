{
 "cells": [
  {
   "cell_type": "code",
   "execution_count": 1,
   "metadata": {},
   "outputs": [
    {
     "data": {
      "text/html": [
       "<div>\n",
       "<style scoped>\n",
       "    .dataframe tbody tr th:only-of-type {\n",
       "        vertical-align: middle;\n",
       "    }\n",
       "\n",
       "    .dataframe tbody tr th {\n",
       "        vertical-align: top;\n",
       "    }\n",
       "\n",
       "    .dataframe thead th {\n",
       "        text-align: right;\n",
       "    }\n",
       "</style>\n",
       "<table border=\"1\" class=\"dataframe\">\n",
       "  <thead>\n",
       "    <tr style=\"text-align: right;\">\n",
       "      <th></th>\n",
       "      <th>u1</th>\n",
       "      <th>u2</th>\n",
       "      <th>Paper_similarity</th>\n",
       "      <th>Social_similarity</th>\n",
       "      <th>active</th>\n",
       "      <th>label</th>\n",
       "    </tr>\n",
       "  </thead>\n",
       "  <tbody>\n",
       "    <tr>\n",
       "      <td>0</td>\n",
       "      <td>Jianbo Bai</td>\n",
       "      <td>Cuicui Ji</td>\n",
       "      <td>0.969673</td>\n",
       "      <td>0.051040</td>\n",
       "      <td>31.650</td>\n",
       "      <td>0.587518</td>\n",
       "    </tr>\n",
       "    <tr>\n",
       "      <td>1</td>\n",
       "      <td>Jianbo Bai</td>\n",
       "      <td>Song Qining</td>\n",
       "      <td>0.945368</td>\n",
       "      <td>0.034257</td>\n",
       "      <td>65.875</td>\n",
       "      <td>0.340499</td>\n",
       "    </tr>\n",
       "    <tr>\n",
       "      <td>2</td>\n",
       "      <td>Jianbo Bai</td>\n",
       "      <td>Yanqin Shangguan</td>\n",
       "      <td>0.964137</td>\n",
       "      <td>0.005598</td>\n",
       "      <td>20.525</td>\n",
       "      <td>0.685433</td>\n",
       "    </tr>\n",
       "    <tr>\n",
       "      <td>3</td>\n",
       "      <td>Jianbo Bai</td>\n",
       "      <td>Imran Dawy</td>\n",
       "      <td>0.968145</td>\n",
       "      <td>0.090386</td>\n",
       "      <td>0.925</td>\n",
       "      <td>0.594375</td>\n",
       "    </tr>\n",
       "    <tr>\n",
       "      <td>4</td>\n",
       "      <td>Jianbo Bai</td>\n",
       "      <td>Li Xiangguo</td>\n",
       "      <td>0.959414</td>\n",
       "      <td>0.012972</td>\n",
       "      <td>3.400</td>\n",
       "      <td>0.510781</td>\n",
       "    </tr>\n",
       "  </tbody>\n",
       "</table>\n",
       "</div>"
      ],
      "text/plain": [
       "           u1                u2  Paper_similarity  Social_similarity  active  \\\n",
       "0  Jianbo Bai         Cuicui Ji          0.969673           0.051040  31.650   \n",
       "1  Jianbo Bai       Song Qining          0.945368           0.034257  65.875   \n",
       "2  Jianbo Bai  Yanqin Shangguan          0.964137           0.005598  20.525   \n",
       "3  Jianbo Bai        Imran Dawy          0.968145           0.090386   0.925   \n",
       "4  Jianbo Bai       Li Xiangguo          0.959414           0.012972   3.400   \n",
       "\n",
       "      label  \n",
       "0  0.587518  \n",
       "1  0.340499  \n",
       "2  0.685433  \n",
       "3  0.594375  \n",
       "4  0.510781  "
      ]
     },
     "execution_count": 1,
     "metadata": {},
     "output_type": "execute_result"
    }
   ],
   "source": [
    "import pandas as pd\n",
    "all_traindata=pd.read_csv('all_traindata111.csv',header=None)\n",
    "all_traindata.columns=['u1','u2','Paper_similarity','Social_similarity','active','label']\n",
    "all_traindata.head()"
   ]
  },
  {
   "cell_type": "code",
   "execution_count": 2,
   "metadata": {},
   "outputs": [
    {
     "data": {
      "text/plain": [
       "(7895, 6)"
      ]
     },
     "execution_count": 2,
     "metadata": {},
     "output_type": "execute_result"
    }
   ],
   "source": [
    "all_traindata.shape"
   ]
  },
  {
   "cell_type": "code",
   "execution_count": 3,
   "metadata": {},
   "outputs": [],
   "source": [
    "#-----------------------------------推荐数据标注推荐---------------------"
   ]
  },
  {
   "cell_type": "code",
   "execution_count": 4,
   "metadata": {},
   "outputs": [
    {
     "data": {
      "text/html": [
       "<div>\n",
       "<style scoped>\n",
       "    .dataframe tbody tr th:only-of-type {\n",
       "        vertical-align: middle;\n",
       "    }\n",
       "\n",
       "    .dataframe tbody tr th {\n",
       "        vertical-align: top;\n",
       "    }\n",
       "\n",
       "    .dataframe thead th {\n",
       "        text-align: right;\n",
       "    }\n",
       "</style>\n",
       "<table border=\"1\" class=\"dataframe\">\n",
       "  <thead>\n",
       "    <tr style=\"text-align: right;\">\n",
       "      <th></th>\n",
       "      <th>u1</th>\n",
       "      <th>u2</th>\n",
       "      <th>Paper_similarity</th>\n",
       "      <th>Social_similarity</th>\n",
       "      <th>active</th>\n",
       "      <th>label</th>\n",
       "    </tr>\n",
       "  </thead>\n",
       "  <tbody>\n",
       "    <tr>\n",
       "      <td>0</td>\n",
       "      <td>Jianbo Bai</td>\n",
       "      <td>Cuicui Ji</td>\n",
       "      <td>0.864370</td>\n",
       "      <td>0.052139</td>\n",
       "      <td>0.029712</td>\n",
       "      <td>0.599466</td>\n",
       "    </tr>\n",
       "    <tr>\n",
       "      <td>1</td>\n",
       "      <td>Jianbo Bai</td>\n",
       "      <td>Song Qining</td>\n",
       "      <td>0.749949</td>\n",
       "      <td>0.034995</td>\n",
       "      <td>0.062123</td>\n",
       "      <td>0.359602</td>\n",
       "    </tr>\n",
       "    <tr>\n",
       "      <td>2</td>\n",
       "      <td>Jianbo Bai</td>\n",
       "      <td>Yanqin Shangguan</td>\n",
       "      <td>0.838309</td>\n",
       "      <td>0.005718</td>\n",
       "      <td>0.019177</td>\n",
       "      <td>0.694544</td>\n",
       "    </tr>\n",
       "    <tr>\n",
       "      <td>3</td>\n",
       "      <td>Jianbo Bai</td>\n",
       "      <td>Imran Dawy</td>\n",
       "      <td>0.857179</td>\n",
       "      <td>0.092333</td>\n",
       "      <td>0.000616</td>\n",
       "      <td>0.606124</td>\n",
       "    </tr>\n",
       "    <tr>\n",
       "      <td>4</td>\n",
       "      <td>Jianbo Bai</td>\n",
       "      <td>Li Xiangguo</td>\n",
       "      <td>0.816072</td>\n",
       "      <td>0.013251</td>\n",
       "      <td>0.002959</td>\n",
       "      <td>0.524951</td>\n",
       "    </tr>\n",
       "  </tbody>\n",
       "</table>\n",
       "</div>"
      ],
      "text/plain": [
       "           u1                u2  Paper_similarity  Social_similarity  \\\n",
       "0  Jianbo Bai         Cuicui Ji          0.864370           0.052139   \n",
       "1  Jianbo Bai       Song Qining          0.749949           0.034995   \n",
       "2  Jianbo Bai  Yanqin Shangguan          0.838309           0.005718   \n",
       "3  Jianbo Bai        Imran Dawy          0.857179           0.092333   \n",
       "4  Jianbo Bai       Li Xiangguo          0.816072           0.013251   \n",
       "\n",
       "     active     label  \n",
       "0  0.029712  0.599466  \n",
       "1  0.062123  0.359602  \n",
       "2  0.019177  0.694544  \n",
       "3  0.000616  0.606124  \n",
       "4  0.002959  0.524951  "
      ]
     },
     "execution_count": 4,
     "metadata": {},
     "output_type": "execute_result"
    }
   ],
   "source": [
    "all_traindata['Paper_similarity']=(all_traindata.Paper_similarity-all_traindata.Paper_similarity.min())/(all_traindata.Paper_similarity.max()-all_traindata.Paper_similarity.min())\n",
    "all_traindata['Social_similarity']=(all_traindata.Social_similarity-all_traindata.Social_similarity.min())/(all_traindata.Social_similarity.max()-all_traindata.Social_similarity.min())\n",
    "all_traindata['active']=(all_traindata.active-all_traindata.active.min())/(all_traindata.active.max()-all_traindata.active.min())\n",
    "all_traindata['label']=(all_traindata.label-all_traindata.label.min())/(all_traindata.label.max()-all_traindata.label.min())\n",
    "all_traindata.head()"
   ]
  },
  {
   "cell_type": "code",
   "execution_count": 5,
   "metadata": {},
   "outputs": [],
   "source": [
    "def Recommend_true(name,Topn):\n",
    "    user1=all_traindata[all_traindata.u1==name]\n",
    "    user2=all_traindata[all_traindata.u2==name]\n",
    "    user=pd.concat([user1,user2])\n",
    "    user=user.sort_values(by='label',ascending=False)\n",
    "    Recommendlist=[]\n",
    "    for i in range(Topn):\n",
    "        Recommendlist.append(user.iloc[i,1])\n",
    "    return Recommendlist\n"
   ]
  },
  {
   "cell_type": "code",
   "execution_count": 81,
   "metadata": {},
   "outputs": [],
   "source": [
    "from sklearn.model_selection import train_test_split\n",
    "from sklearn.neural_network import MLPRegressor\n",
    "import numpy as np"
   ]
  },
  {
   "cell_type": "code",
   "execution_count": 82,
   "metadata": {},
   "outputs": [],
   "source": [
    "X=all_traindata[['Paper_similarity','Social_similarity','active']]\n",
    "\n",
    "Y=all_traindata['label']\n",
    "alluser=all_traindata['u1'].unique().tolist()"
   ]
  },
  {
   "cell_type": "code",
   "execution_count": 83,
   "metadata": {},
   "outputs": [
    {
     "name": "stdout",
     "output_type": "stream",
     "text": [
      "Wall time: 5.48 s\n"
     ]
    }
   ],
   "source": [
    "%%time\n",
    "clf = MLPRegressor(hidden_layer_sizes=(10,10))\n",
    "clf.fit(X,Y)\n",
    "predict_results=clf.predict(X)"
   ]
  },
  {
   "cell_type": "code",
   "execution_count": 84,
   "metadata": {},
   "outputs": [
    {
     "name": "stderr",
     "output_type": "stream",
     "text": [
      "D:\\anaconda\\lib\\site-packages\\ipykernel_launcher.py:2: SettingWithCopyWarning: \n",
      "A value is trying to be set on a copy of a slice from a DataFrame.\n",
      "Try using .loc[row_indexer,col_indexer] = value instead\n",
      "\n",
      "See the caveats in the documentation: http://pandas.pydata.org/pandas-docs/stable/user_guide/indexing.html#returning-a-view-versus-a-copy\n",
      "  \n"
     ]
    }
   ],
   "source": [
    "RecommendMLP=all_traindata[['u1','u2']]\n",
    "RecommendMLP['prelabel']=pd.DataFrame(predict_results, columns=None)"
   ]
  },
  {
   "cell_type": "code",
   "execution_count": 85,
   "metadata": {},
   "outputs": [],
   "source": [
    "def Recommend_mlp(name,Topn):\n",
    "    user1=RecommendMLP[RecommendMLP.u1==name]\n",
    "    user2=RecommendMLP[RecommendMLP.u2==name]\n",
    "    user=pd.concat([user1,user2])\n",
    "    user=user.sort_values(by='prelabel',ascending=False)\n",
    "    Recommendlist=[]\n",
    "    for i in range(Topn):\n",
    "        Recommendlist.append(user.iloc[i,1])\n",
    "    return Recommendlist"
   ]
  },
  {
   "cell_type": "markdown",
   "metadata": {},
   "source": [
    "----------------------------------------------------------------------------"
   ]
  },
  {
   "cell_type": "code",
   "execution_count": 13,
   "metadata": {},
   "outputs": [
    {
     "name": "stdout",
     "output_type": "stream",
     "text": [
      "命中率：0.49783549783549796\n"
     ]
    }
   ],
   "source": [
    "Topn_mlp=30\n",
    "Topn_true=10\n",
    "all_Precision=[]\n",
    "for i in alluser:\n",
    "    name=i\n",
    "\n",
    "    RecommendMLPlist=Recommend_mlp(name,Topn_mlp)\n",
    "    RecommendTruelist=Recommend_true(name,Topn_true)\n",
    "    Precision=len((list(set(RecommendMLPlist) & set(RecommendTruelist))))/len(RecommendTruelist)\n",
    "    all_Precision.append(Precision)\n",
    "print(\"命中率：\"+str( np.mean(all_Precision)))"
   ]
  },
  {
   "cell_type": "code",
   "execution_count": 15,
   "metadata": {},
   "outputs": [
    {
     "name": "stdout",
     "output_type": "stream",
     "text": [
      "命中率：0.46926406926406944\n"
     ]
    }
   ],
   "source": [
    "Topn_mlp=25\n",
    "Topn_true=10\n",
    "all_Precision=[]\n",
    "for i in alluser:\n",
    "    name=i\n",
    "\n",
    "    RecommendMLPlist=Recommend_mlp(name,Topn_mlp)\n",
    "    RecommendTruelist=Recommend_true(name,Topn_true)\n",
    "    Precision=len((list(set(RecommendMLPlist) & set(RecommendTruelist))))/len(RecommendTruelist)\n",
    "    all_Precision.append(Precision)\n",
    "print(\"命中率：\"+str( np.mean(all_Precision)))"
   ]
  },
  {
   "cell_type": "code",
   "execution_count": 19,
   "metadata": {},
   "outputs": [
    {
     "name": "stdout",
     "output_type": "stream",
     "text": [
      "命中率：0.432900432900433\n"
     ]
    }
   ],
   "source": [
    "Topn_mlp=20\n",
    "Topn_true=10\n",
    "all_Precision=[]\n",
    "for i in alluser:\n",
    "    name=i\n",
    "\n",
    "    RecommendMLPlist=Recommend_mlp(name,Topn_mlp)\n",
    "    RecommendTruelist=Recommend_true(name,Topn_true)\n",
    "    Precision=len((list(set(RecommendMLPlist) & set(RecommendTruelist))))/len(RecommendTruelist)\n",
    "    all_Precision.append(Precision)\n",
    "print(\"命中率：\"+str( np.mean(all_Precision)))"
   ]
  },
  {
   "cell_type": "code",
   "execution_count": 21,
   "metadata": {},
   "outputs": [
    {
     "name": "stdout",
     "output_type": "stream",
     "text": [
      "命中率：0.3982683982683984\n"
     ]
    }
   ],
   "source": [
    "Topn_mlp=15\n",
    "Topn_true=10\n",
    "all_Precision=[]\n",
    "for i in alluser:\n",
    "    name=i\n",
    "\n",
    "    RecommendMLPlist=Recommend_mlp(name,Topn_mlp)\n",
    "    RecommendTruelist=Recommend_true(name,Topn_true)\n",
    "    Precision=len((list(set(RecommendMLPlist) & set(RecommendTruelist))))/len(RecommendTruelist)\n",
    "    all_Precision.append(Precision)\n",
    "print(\"命中率：\"+str( np.mean(all_Precision)))"
   ]
  },
  {
   "cell_type": "code",
   "execution_count": 23,
   "metadata": {},
   "outputs": [
    {
     "name": "stdout",
     "output_type": "stream",
     "text": [
      "命中率：0.3515151515151516\n"
     ]
    }
   ],
   "source": [
    "Topn_mlp=10\n",
    "Topn_true=10\n",
    "all_Precision=[]\n",
    "for i in alluser:\n",
    "    name=i\n",
    "\n",
    "    RecommendMLPlist=Recommend_mlp(name,Topn_mlp)\n",
    "    RecommendTruelist=Recommend_true(name,Topn_true)\n",
    "    Precision=len((list(set(RecommendMLPlist) & set(RecommendTruelist))))/len(RecommendTruelist)\n",
    "    all_Precision.append(Precision)\n",
    "print(\"命中率：\"+str( np.mean(all_Precision)))"
   ]
  },
  {
   "cell_type": "code",
   "execution_count": 25,
   "metadata": {},
   "outputs": [
    {
     "name": "stdout",
     "output_type": "stream",
     "text": [
      "命中率：0.2666666666666668\n"
     ]
    }
   ],
   "source": [
    "Topn_mlp=5\n",
    "Topn_true=10\n",
    "all_Precision=[]\n",
    "for i in alluser:\n",
    "    name=i\n",
    "\n",
    "    RecommendMLPlist=Recommend_mlp(name,Topn_mlp)\n",
    "    RecommendTruelist=Recommend_true(name,Topn_true)\n",
    "    Precision=len((list(set(RecommendMLPlist) & set(RecommendTruelist))))/len(RecommendTruelist)\n",
    "    all_Precision.append(Precision)\n",
    "print(\"命中率：\"+str( np.mean(all_Precision)))"
   ]
  },
  {
   "cell_type": "code",
   "execution_count": 134,
   "metadata": {},
   "outputs": [
    {
     "name": "stdout",
     "output_type": "stream",
     "text": [
      "Wall time: 163 ms\n"
     ]
    }
   ],
   "source": [
    "%%time\n",
    "from sklearn.ensemble import GradientBoostingRegressor\n",
    "\n",
    "gbdt_model = GradientBoostingRegressor()\n",
    "gbdt_model.fit(X, Y)\n",
    "predict_results = gbdt_model.predict(X)"
   ]
  },
  {
   "cell_type": "code",
   "execution_count": 135,
   "metadata": {},
   "outputs": [
    {
     "name": "stderr",
     "output_type": "stream",
     "text": [
      "D:\\anaconda\\lib\\site-packages\\ipykernel_launcher.py:2: SettingWithCopyWarning: \n",
      "A value is trying to be set on a copy of a slice from a DataFrame.\n",
      "Try using .loc[row_indexer,col_indexer] = value instead\n",
      "\n",
      "See the caveats in the documentation: http://pandas.pydata.org/pandas-docs/stable/user_guide/indexing.html#returning-a-view-versus-a-copy\n",
      "  \n"
     ]
    }
   ],
   "source": [
    "RecommendGBDT=all_traindata[['u1','u2']]\n",
    "RecommendGBDT['prelabel']=pd.DataFrame(predict_results, columns=None)"
   ]
  },
  {
   "cell_type": "code",
   "execution_count": 136,
   "metadata": {},
   "outputs": [],
   "source": [
    "def Recommend_GBDT(name,Topn):\n",
    "    user1=RecommendGBDT[RecommendGBDT.u1==name]\n",
    "    user2=RecommendGBDT[RecommendGBDT.u2==name]\n",
    "    user=pd.concat([user1,user2])\n",
    "    user=user.sort_values(by='prelabel',ascending=False)\n",
    "    Recommendlist=[]\n",
    "    for i in range(Topn):\n",
    "        Recommendlist.append(user.iloc[i,1])\n",
    "    return Recommendlist"
   ]
  },
  {
   "cell_type": "code",
   "execution_count": 137,
   "metadata": {},
   "outputs": [
    {
     "name": "stdout",
     "output_type": "stream",
     "text": [
      "命中率：0.1135930735930736\n"
     ]
    }
   ],
   "source": [
    "Topn_GBDT=5\n",
    "Topn_true=10\n",
    "all_Precision=[]\n",
    "for i in alluser:\n",
    "    name=i\n",
    "    RecommendGBDTlist=Recommend_GBDT(name,Topn_GBDT)\n",
    "    RecommendTruelist=Recommend_true(name,Topn_true)\n",
    "    Precision=len((list(set(RecommendGBDTlist) & set(RecommendTruelist))))/len(RecommendTruelist)\n",
    "    all_Precision.append(Precision)\n",
    "all_Precision=np.mean(all_Precision)\n",
    "print(\"命中率：\"+str( np.mean(all_Precision)))"
   ]
  },
  {
   "cell_type": "code",
   "execution_count": 138,
   "metadata": {},
   "outputs": [
    {
     "name": "stdout",
     "output_type": "stream",
     "text": [
      "命中率：0.17939393939393938\n"
     ]
    }
   ],
   "source": [
    "Topn_GBDT=10\n",
    "Topn_true=10\n",
    "all_Precision=[]\n",
    "for i in alluser:\n",
    "    name=i\n",
    "    RecommendGBDTlist=Recommend_GBDT(name,Topn_GBDT)\n",
    "    RecommendTruelist=Recommend_true(name,Topn_true)\n",
    "    Precision=len((list(set(RecommendGBDTlist) & set(RecommendTruelist))))/len(RecommendTruelist)\n",
    "    all_Precision.append(Precision)\n",
    "all_Precision=np.mean(all_Precision)\n",
    "print(\"命中率：\"+str( np.mean(all_Precision)))"
   ]
  },
  {
   "cell_type": "code",
   "execution_count": 139,
   "metadata": {},
   "outputs": [
    {
     "name": "stdout",
     "output_type": "stream",
     "text": [
      "命中率：0.23982683982683983\n"
     ]
    }
   ],
   "source": [
    "Topn_GBDT=15\n",
    "Topn_true=10\n",
    "all_Precision=[]\n",
    "for i in alluser:\n",
    "    name=i\n",
    "    RecommendGBDTlist=Recommend_GBDT(name,Topn_GBDT)\n",
    "    RecommendTruelist=Recommend_true(name,Topn_true)\n",
    "    Precision=len((list(set(RecommendGBDTlist) & set(RecommendTruelist))))/len(RecommendTruelist)\n",
    "    all_Precision.append(Precision)\n",
    "all_Precision=np.mean(all_Precision)\n",
    "print(\"命中率：\"+str( np.mean(all_Precision)))"
   ]
  },
  {
   "cell_type": "code",
   "execution_count": 140,
   "metadata": {},
   "outputs": [
    {
     "name": "stdout",
     "output_type": "stream",
     "text": [
      "命中率：0.292987012987013\n"
     ]
    }
   ],
   "source": [
    "Topn_GBDT=20\n",
    "Topn_true=10\n",
    "all_Precision=[]\n",
    "for i in alluser:\n",
    "    name=i\n",
    "    RecommendGBDTlist=Recommend_GBDT(name,Topn_GBDT)\n",
    "    RecommendTruelist=Recommend_true(name,Topn_true)\n",
    "    Precision=len((list(set(RecommendGBDTlist) & set(RecommendTruelist))))/len(RecommendTruelist)\n",
    "    all_Precision.append(Precision)\n",
    "all_Precision=np.mean(all_Precision)\n",
    "print(\"命中率：\"+str( np.mean(all_Precision)))"
   ]
  },
  {
   "cell_type": "code",
   "execution_count": 141,
   "metadata": {},
   "outputs": [
    {
     "name": "stdout",
     "output_type": "stream",
     "text": [
      "命中率：0.33904761904761904\n"
     ]
    }
   ],
   "source": [
    "Topn_GBDT=25\n",
    "Topn_true=10\n",
    "all_Precision=[]\n",
    "for i in alluser:\n",
    "    name=i\n",
    "    RecommendGBDTlist=Recommend_GBDT(name,Topn_GBDT)\n",
    "    RecommendTruelist=Recommend_true(name,Topn_true)\n",
    "    Precision=len((list(set(RecommendGBDTlist) & set(RecommendTruelist))))/len(RecommendTruelist)\n",
    "    all_Precision.append(Precision)\n",
    "all_Precision=np.mean(all_Precision)\n",
    "print(\"命中率：\"+str( np.mean(all_Precision)))"
   ]
  },
  {
   "cell_type": "code",
   "execution_count": 142,
   "metadata": {},
   "outputs": [
    {
     "name": "stdout",
     "output_type": "stream",
     "text": [
      "命中率：0.3797402597402597\n"
     ]
    }
   ],
   "source": [
    "Topn_GBDT=30\n",
    "Topn_true=10\n",
    "all_Precision=[]\n",
    "for i in alluser:\n",
    "    name=i\n",
    "    RecommendGBDTlist=Recommend_GBDT(name,Topn_GBDT)\n",
    "    RecommendTruelist=Recommend_true(name,Topn_true)\n",
    "    Precision=len((list(set(RecommendGBDTlist) & set(RecommendTruelist))))/len(RecommendTruelist)\n",
    "    all_Precision.append(Precision)\n",
    "all_Precision=np.mean(all_Precision)\n",
    "print(\"命中率：\"+str( np.mean(all_Precision)))"
   ]
  },
  {
   "cell_type": "code",
   "execution_count": 89,
   "metadata": {},
   "outputs": [
    {
     "name": "stdout",
     "output_type": "stream",
     "text": [
      "Wall time: 186 ms\n"
     ]
    },
    {
     "name": "stderr",
     "output_type": "stream",
     "text": [
      "D:\\anaconda\\lib\\site-packages\\sklearn\\ensemble\\forest.py:245: FutureWarning: The default value of n_estimators will change from 10 in version 0.20 to 100 in 0.22.\n",
      "  \"10 in version 0.20 to 100 in 0.22.\", FutureWarning)\n"
     ]
    }
   ],
   "source": [
    "%%time\n",
    "from sklearn.ensemble import RandomForestRegressor\n",
    "\n",
    "forest = RandomForestRegressor()#\n",
    "forest.fit(X, Y)\n",
    "predict_results = forest.predict(X)"
   ]
  },
  {
   "cell_type": "code",
   "execution_count": 90,
   "metadata": {},
   "outputs": [
    {
     "name": "stderr",
     "output_type": "stream",
     "text": [
      "D:\\anaconda\\lib\\site-packages\\ipykernel_launcher.py:2: SettingWithCopyWarning: \n",
      "A value is trying to be set on a copy of a slice from a DataFrame.\n",
      "Try using .loc[row_indexer,col_indexer] = value instead\n",
      "\n",
      "See the caveats in the documentation: http://pandas.pydata.org/pandas-docs/stable/user_guide/indexing.html#returning-a-view-versus-a-copy\n",
      "  \n"
     ]
    }
   ],
   "source": [
    "RecommendRF=all_traindata[['u1','u2']]\n",
    "RecommendRF['prelabel']=pd.DataFrame(predict_results, columns=None)"
   ]
  },
  {
   "cell_type": "code",
   "execution_count": 91,
   "metadata": {},
   "outputs": [],
   "source": [
    "def Recommend_RF(name,Topn):\n",
    "    user1=RecommendRF[RecommendRF.u1==name]\n",
    "    user2=RecommendRF[RecommendRF.u2==name]\n",
    "    user=pd.concat([user1,user2])\n",
    "    user=user.sort_values(by='prelabel',ascending=False)\n",
    "    Recommendlist=[]\n",
    "    for i in range(Topn):\n",
    "        Recommendlist.append(user.iloc[i,1])\n",
    "    return Recommendlist"
   ]
  },
  {
   "cell_type": "code",
   "execution_count": 32,
   "metadata": {},
   "outputs": [
    {
     "name": "stdout",
     "output_type": "stream",
     "text": [
      "命中率：0.19624819624819628\n"
     ]
    }
   ],
   "source": [
    "Topn_RF=10\n",
    "Topn_true=10\n",
    "all_Precision=[]\n",
    "\n",
    "for i in alluser:\n",
    "    name=i\n",
    "    RecommendRFlist=Recommend_RF(name,Topn_RF)\n",
    "    RecommendTruelist=Recommend_true(name,Topn_true)\n",
    "    Precision=len((list(set(RecommendRFlist) & set(RecommendTruelist))))/len(RecommendTruelist)\n",
    "    all_Precision.append(Precision)\n",
    "all_Precision=np.mean(all_Precision)\n",
    "\n",
    "print(\"命中率：\"+str( np.mean(all_Precision)))"
   ]
  },
  {
   "cell_type": "code",
   "execution_count": 33,
   "metadata": {},
   "outputs": [
    {
     "name": "stdout",
     "output_type": "stream",
     "text": [
      "命中率：0.27619047619047626\n"
     ]
    }
   ],
   "source": [
    "Topn_RF=15\n",
    "Topn_true=10\n",
    "all_Precision=[]\n",
    "\n",
    "for i in alluser:\n",
    "    name=i\n",
    "    RecommendRFlist=Recommend_RF(name,Topn_RF)\n",
    "    RecommendTruelist=Recommend_true(name,Topn_true)\n",
    "    Precision=len((list(set(RecommendRFlist) & set(RecommendTruelist))))/len(RecommendTruelist)\n",
    "    all_Precision.append(Precision)\n",
    "all_Precision=np.mean(all_Precision)\n",
    "\n",
    "print(\"命中率：\"+str( np.mean(all_Precision)))"
   ]
  },
  {
   "cell_type": "code",
   "execution_count": 34,
   "metadata": {},
   "outputs": [
    {
     "name": "stdout",
     "output_type": "stream",
     "text": [
      "命中率：0.35079365079365077\n"
     ]
    }
   ],
   "source": [
    "Topn_RF=30\n",
    "Topn_true=10\n",
    "all_Precision=[]\n",
    "\n",
    "for i in alluser:\n",
    "    name=i\n",
    "    RecommendRFlist=Recommend_RF(name,Topn_RF)\n",
    "    RecommendTruelist=Recommend_true(name,Topn_true)\n",
    "    Precision=len((list(set(RecommendRFlist) & set(RecommendTruelist))))/len(RecommendTruelist)\n",
    "    all_Precision.append(Precision)\n",
    "all_Precision=np.mean(all_Precision)\n",
    "\n",
    "print(\"命中率：\"+str( np.mean(all_Precision)))"
   ]
  },
  {
   "cell_type": "code",
   "execution_count": 39,
   "metadata": {},
   "outputs": [
    {
     "name": "stdout",
     "output_type": "stream",
     "text": [
      "命中率：0.32346320346320345\n"
     ]
    }
   ],
   "source": [
    "Topn_RF=25\n",
    "Topn_true=10\n",
    "all_Precision=[]\n",
    "\n",
    "for i in alluser:\n",
    "    name=i\n",
    "    RecommendRFlist=Recommend_RF(name,Topn_RF)\n",
    "    RecommendTruelist=Recommend_true(name,Topn_true)\n",
    "    Precision=len((list(set(RecommendRFlist) & set(RecommendTruelist))))/len(RecommendTruelist)\n",
    "    all_Precision.append(Precision)\n",
    "all_Precision=np.mean(all_Precision)\n",
    "\n",
    "print(\"命中率：\"+str( np.mean(all_Precision)))"
   ]
  },
  {
   "cell_type": "code",
   "execution_count": 45,
   "metadata": {},
   "outputs": [
    {
     "name": "stdout",
     "output_type": "stream",
     "text": [
      "命中率：0.1651515151515152\n"
     ]
    }
   ],
   "source": [
    "Topn_RF=5\n",
    "Topn_true=10\n",
    "all_Precision=[]\n",
    "\n",
    "for i in alluser:\n",
    "    name=i\n",
    "    RecommendRFlist=Recommend_RF(name,Topn_RF)\n",
    "    RecommendTruelist=Recommend_true(name,Topn_true)\n",
    "    Precision=len((list(set(RecommendRFlist) & set(RecommendTruelist))))/len(RecommendTruelist)\n",
    "    all_Precision.append(Precision)\n",
    "all_Precision=np.mean(all_Precision)\n",
    "\n",
    "print(\"命中率：\"+str( np.mean(all_Precision)))"
   ]
  },
  {
   "cell_type": "code",
   "execution_count": 46,
   "metadata": {},
   "outputs": [
    {
     "name": "stdout",
     "output_type": "stream",
     "text": [
      "命中率：0.2852813852813853\n"
     ]
    }
   ],
   "source": [
    "Topn_RF=20\n",
    "Topn_true=10\n",
    "all_Precision=[]\n",
    "\n",
    "for i in alluser:\n",
    "    name=i\n",
    "    RecommendRFlist=Recommend_RF(name,Topn_RF)\n",
    "    RecommendTruelist=Recommend_true(name,Topn_true)\n",
    "    Precision=len((list(set(RecommendRFlist) & set(RecommendTruelist))))/len(RecommendTruelist)\n",
    "    all_Precision.append(Precision)\n",
    "all_Precision=np.mean(all_Precision)\n",
    "\n",
    "print(\"命中率：\"+str( np.mean(all_Precision)))"
   ]
  },
  {
   "cell_type": "code",
   "execution_count": null,
   "metadata": {},
   "outputs": [],
   "source": []
  },
  {
   "cell_type": "code",
   "execution_count": 143,
   "metadata": {},
   "outputs": [
    {
     "name": "stdout",
     "output_type": "stream",
     "text": [
      "Wall time: 4.95 ms\n"
     ]
    }
   ],
   "source": [
    "%%time\n",
    "from sklearn.linear_model import LinearRegression\n",
    "\n",
    "model = LinearRegression()#\n",
    "model.fit(X, Y)\n",
    "predict_results = model.predict(X)"
   ]
  },
  {
   "cell_type": "code",
   "execution_count": 144,
   "metadata": {},
   "outputs": [
    {
     "name": "stderr",
     "output_type": "stream",
     "text": [
      "D:\\anaconda\\lib\\site-packages\\ipykernel_launcher.py:2: SettingWithCopyWarning: \n",
      "A value is trying to be set on a copy of a slice from a DataFrame.\n",
      "Try using .loc[row_indexer,col_indexer] = value instead\n",
      "\n",
      "See the caveats in the documentation: http://pandas.pydata.org/pandas-docs/stable/user_guide/indexing.html#returning-a-view-versus-a-copy\n",
      "  \n"
     ]
    }
   ],
   "source": [
    "RecommendLR=all_traindata[['u1','u2']]\n",
    "RecommendLR['prelabel']=pd.DataFrame(predict_results, columns=None)"
   ]
  },
  {
   "cell_type": "code",
   "execution_count": 145,
   "metadata": {},
   "outputs": [],
   "source": [
    "def Recommend_LR(name,Topn):\n",
    "    user1=RecommendLR[RecommendLR.u1==name]\n",
    "    user2=RecommendLR[RecommendLR.u2==name]\n",
    "    user=pd.concat([user1,user2])\n",
    "    user=user.sort_values(by='prelabel',ascending=False)\n",
    "    Recommendlist=[]\n",
    "    for i in range(Topn):\n",
    "        Recommendlist.append(user.iloc[i,1])\n",
    "    return Recommendlist"
   ]
  },
  {
   "cell_type": "code",
   "execution_count": 113,
   "metadata": {},
   "outputs": [
    {
     "name": "stdout",
     "output_type": "stream",
     "text": [
      "命中率：0.11406926406926408\n"
     ]
    }
   ],
   "source": [
    "Topn_LR=5\n",
    "Topn_true=10\n",
    "all_Precision=[]\n",
    "\n",
    "for i in alluser:\n",
    "    name=i\n",
    "    RecommendLRlist=Recommend_LR(name,Topn_LR)\n",
    "    RecommendTruelist=Recommend_true(name,Topn_true)\n",
    "    Precision=len((list(set(RecommendLRlist) & set(RecommendTruelist))))/len(RecommendTruelist)\n",
    "    all_Precision.append(Precision)\n",
    "all_Precision=np.mean(all_Precision)\n",
    "print(\"命中率：\"+str( np.mean(all_Precision)))"
   ]
  },
  {
   "cell_type": "code",
   "execution_count": 114,
   "metadata": {},
   "outputs": [
    {
     "name": "stdout",
     "output_type": "stream",
     "text": [
      "命中率：0.17380952380952383\n"
     ]
    }
   ],
   "source": [
    "Topn_LR=10\n",
    "Topn_true=10\n",
    "all_Precision=[]\n",
    "\n",
    "for i in alluser:\n",
    "    name=i\n",
    "    RecommendLRlist=Recommend_LR(name,Topn_LR)\n",
    "    RecommendTruelist=Recommend_true(name,Topn_true)\n",
    "    Precision=len((list(set(RecommendLRlist) & set(RecommendTruelist))))/len(RecommendTruelist)\n",
    "    all_Precision.append(Precision)\n",
    "all_Precision=np.mean(all_Precision)\n",
    "print(\"命中率：\"+str( np.mean(all_Precision)))"
   ]
  },
  {
   "cell_type": "code",
   "execution_count": 115,
   "metadata": {},
   "outputs": [
    {
     "name": "stdout",
     "output_type": "stream",
     "text": [
      "命中率：0.22554112554112557\n"
     ]
    }
   ],
   "source": [
    "Topn_LR=15\n",
    "Topn_true=10\n",
    "all_Precision=[]\n",
    "\n",
    "for i in alluser:\n",
    "    name=i\n",
    "    RecommendLRlist=Recommend_LR(name,Topn_LR)\n",
    "    RecommendTruelist=Recommend_true(name,Topn_true)\n",
    "    Precision=len((list(set(RecommendLRlist) & set(RecommendTruelist))))/len(RecommendTruelist)\n",
    "    all_Precision.append(Precision)\n",
    "all_Precision=np.mean(all_Precision)\n",
    "print(\"命中率：\"+str( np.mean(all_Precision)))"
   ]
  },
  {
   "cell_type": "code",
   "execution_count": 116,
   "metadata": {},
   "outputs": [
    {
     "name": "stdout",
     "output_type": "stream",
     "text": [
      "命中率：0.2703463203463203\n"
     ]
    }
   ],
   "source": [
    "Topn_LR=20\n",
    "Topn_true=10\n",
    "all_Precision=[]\n",
    "\n",
    "for i in alluser:\n",
    "    name=i\n",
    "    RecommendLRlist=Recommend_LR(name,Topn_LR)\n",
    "    RecommendTruelist=Recommend_true(name,Topn_true)\n",
    "    Precision=len((list(set(RecommendLRlist) & set(RecommendTruelist))))/len(RecommendTruelist)\n",
    "    all_Precision.append(Precision)\n",
    "all_Precision=np.mean(all_Precision)\n",
    "print(\"命中率：\"+str( np.mean(all_Precision)))"
   ]
  },
  {
   "cell_type": "code",
   "execution_count": 117,
   "metadata": {},
   "outputs": [
    {
     "name": "stdout",
     "output_type": "stream",
     "text": [
      "命中率：0.3132034632034631\n"
     ]
    }
   ],
   "source": [
    "Topn_LR=25\n",
    "Topn_true=10\n",
    "all_Precision=[]\n",
    "\n",
    "for i in alluser:\n",
    "    name=i\n",
    "    RecommendLRlist=Recommend_LR(name,Topn_LR)\n",
    "    RecommendTruelist=Recommend_true(name,Topn_true)\n",
    "    Precision=len((list(set(RecommendLRlist) & set(RecommendTruelist))))/len(RecommendTruelist)\n",
    "    all_Precision.append(Precision)\n",
    "all_Precision=np.mean(all_Precision)\n",
    "print(\"命中率：\"+str( np.mean(all_Precision)))"
   ]
  },
  {
   "cell_type": "code",
   "execution_count": 118,
   "metadata": {},
   "outputs": [
    {
     "name": "stdout",
     "output_type": "stream",
     "text": [
      "命中率：0.34761904761904755\n"
     ]
    }
   ],
   "source": [
    "Topn_LR=30\n",
    "Topn_true=10\n",
    "all_Precision=[]\n",
    "\n",
    "for i in alluser:\n",
    "    name=i\n",
    "    RecommendLRlist=Recommend_LR(name,Topn_LR)\n",
    "    RecommendTruelist=Recommend_true(name,Topn_true)\n",
    "    Precision=len((list(set(RecommendLRlist) & set(RecommendTruelist))))/len(RecommendTruelist)\n",
    "    all_Precision.append(Precision)\n",
    "all_Precision=np.mean(all_Precision)\n",
    "print(\"命中率：\"+str( np.mean(all_Precision)))"
   ]
  },
  {
   "cell_type": "code",
   "execution_count": 103,
   "metadata": {
    "scrolled": true
   },
   "outputs": [
    {
     "name": "stdout",
     "output_type": "stream",
     "text": [
      "Wall time: 38.7 ms\n"
     ]
    }
   ],
   "source": [
    "%%time\n",
    "from sklearn import tree\n",
    "\n",
    "model = tree.DecisionTreeRegressor()#\n",
    "model.fit(X, Y)\n",
    "predict_results = model.predict(X)"
   ]
  },
  {
   "cell_type": "code",
   "execution_count": 104,
   "metadata": {},
   "outputs": [
    {
     "name": "stderr",
     "output_type": "stream",
     "text": [
      "D:\\anaconda\\lib\\site-packages\\ipykernel_launcher.py:2: SettingWithCopyWarning: \n",
      "A value is trying to be set on a copy of a slice from a DataFrame.\n",
      "Try using .loc[row_indexer,col_indexer] = value instead\n",
      "\n",
      "See the caveats in the documentation: http://pandas.pydata.org/pandas-docs/stable/user_guide/indexing.html#returning-a-view-versus-a-copy\n",
      "  \n"
     ]
    }
   ],
   "source": [
    "RecommendDT=all_traindata[['u1','u2']]\n",
    "RecommendDT['prelabel']=pd.DataFrame(predict_results, columns=None)"
   ]
  },
  {
   "cell_type": "code",
   "execution_count": 105,
   "metadata": {},
   "outputs": [],
   "source": [
    "def Recommend_DT(name,Topn):\n",
    "    user1=RecommendDT[RecommendDT.u1==name]\n",
    "    user2=RecommendDT[RecommendDT.u2==name]\n",
    "    user=pd.concat([user1,user2])\n",
    "    user=user.sort_values(by='prelabel',ascending=False)\n",
    "    Recommendlist=[]\n",
    "    for i in range(Topn):\n",
    "        Recommendlist.append(user.iloc[i,1])\n",
    "    return Recommendlist"
   ]
  },
  {
   "cell_type": "code",
   "execution_count": 54,
   "metadata": {},
   "outputs": [
    {
     "name": "stdout",
     "output_type": "stream",
     "text": [
      "命中率：0.16277056277056282\n"
     ]
    }
   ],
   "source": [
    "Topn_DT=5\n",
    "Topn_true=10\n",
    "all_Precision=[]\n",
    "\n",
    "for i in alluser:\n",
    "    name=i\n",
    "    RecommendDTlist=Recommend_DT(name,Topn_DT)\n",
    "    RecommendTruelist=Recommend_true(name,Topn_true)\n",
    "    Precision=len((list(set(RecommendDTlist) & set(RecommendTruelist))))/len(RecommendTruelist)\n",
    "    all_Precision.append(Precision)\n",
    "all_Precision=np.mean(all_Precision)\n",
    "print(\"命中率：\"+str( np.mean(all_Precision)))"
   ]
  },
  {
   "cell_type": "code",
   "execution_count": 55,
   "metadata": {},
   "outputs": [
    {
     "name": "stdout",
     "output_type": "stream",
     "text": [
      "命中率：0.2913419913419914\n"
     ]
    }
   ],
   "source": [
    "Topn_DT=20\n",
    "Topn_true=10\n",
    "all_Precision=[]\n",
    "\n",
    "for i in alluser:\n",
    "    name=i\n",
    "    RecommendDTlist=Recommend_DT(name,Topn_DT)\n",
    "    RecommendTruelist=Recommend_true(name,Topn_true)\n",
    "    Precision=len((list(set(RecommendDTlist) & set(RecommendTruelist))))/len(RecommendTruelist)\n",
    "    all_Precision.append(Precision)\n",
    "all_Precision=np.mean(all_Precision)\n",
    "print(\"命中率：\"+str( np.mean(all_Precision)))"
   ]
  },
  {
   "cell_type": "code",
   "execution_count": 62,
   "metadata": {},
   "outputs": [
    {
     "name": "stdout",
     "output_type": "stream",
     "text": [
      "命中率：0.19422799422799425\n"
     ]
    }
   ],
   "source": [
    "Topn_DT=10\n",
    "Topn_true=10\n",
    "all_Precision=[]\n",
    "\n",
    "for i in alluser:\n",
    "    name=i\n",
    "    RecommendDTlist=Recommend_DT(name,Topn_DT)\n",
    "    RecommendTruelist=Recommend_true(name,Topn_true)\n",
    "    Precision=len((list(set(RecommendDTlist) & set(RecommendTruelist))))/len(RecommendTruelist)\n",
    "    all_Precision.append(Precision)\n",
    "all_Precision=np.mean(all_Precision)\n",
    "print(\"命中率：\"+str( np.mean(all_Precision)))"
   ]
  },
  {
   "cell_type": "code",
   "execution_count": 64,
   "metadata": {},
   "outputs": [
    {
     "name": "stdout",
     "output_type": "stream",
     "text": [
      "命中率：0.364935064935065\n"
     ]
    }
   ],
   "source": [
    "Topn_DT=30\n",
    "Topn_true=10\n",
    "all_Precision=[]\n",
    "\n",
    "for i in alluser:\n",
    "    name=i\n",
    "    RecommendDTlist=Recommend_DT(name,Topn_DT)\n",
    "    RecommendTruelist=Recommend_true(name,Topn_true)\n",
    "    Precision=len((list(set(RecommendDTlist) & set(RecommendTruelist))))/len(RecommendTruelist)\n",
    "    all_Precision.append(Precision)\n",
    "all_Precision=np.mean(all_Precision)\n",
    "print(\"命中率：\"+str( np.mean(all_Precision)))"
   ]
  },
  {
   "cell_type": "code",
   "execution_count": 69,
   "metadata": {},
   "outputs": [
    {
     "name": "stdout",
     "output_type": "stream",
     "text": [
      "命中率：0.2330735930735931\n"
     ]
    }
   ],
   "source": [
    "Topn_DT=15\n",
    "Topn_true=10\n",
    "all_Precision=[]\n",
    "\n",
    "for i in alluser:\n",
    "    name=i\n",
    "    RecommendDTlist=Recommend_DT(name,Topn_DT)\n",
    "    RecommendTruelist=Recommend_true(name,Topn_true)\n",
    "    Precision=len((list(set(RecommendDTlist) & set(RecommendTruelist))))/len(RecommendTruelist)\n",
    "    all_Precision.append(Precision)\n",
    "all_Precision=np.mean(all_Precision)\n",
    "print(\"命中率：\"+str( np.mean(all_Precision)))"
   ]
  },
  {
   "cell_type": "code",
   "execution_count": 70,
   "metadata": {},
   "outputs": [
    {
     "name": "stdout",
     "output_type": "stream",
     "text": [
      "命中率：0.33766233766233766\n"
     ]
    }
   ],
   "source": [
    "Topn_DT=25\n",
    "Topn_true=10\n",
    "all_Precision=[]\n",
    "\n",
    "for i in alluser:\n",
    "    name=i\n",
    "    RecommendDTlist=Recommend_DT(name,Topn_DT)\n",
    "    RecommendTruelist=Recommend_true(name,Topn_true)\n",
    "    Precision=len((list(set(RecommendDTlist) & set(RecommendTruelist))))/len(RecommendTruelist)\n",
    "    all_Precision.append(Precision)\n",
    "all_Precision=np.mean(all_Precision)\n",
    "print(\"命中率：\"+str( np.mean(all_Precision)))"
   ]
  },
  {
   "cell_type": "code",
   "execution_count": null,
   "metadata": {},
   "outputs": [],
   "source": []
  },
  {
   "cell_type": "code",
   "execution_count": 80,
   "metadata": {},
   "outputs": [
    {
     "name": "stdout",
     "output_type": "stream",
     "text": [
      "Wall time: 33.9 ms\n"
     ]
    }
   ],
   "source": [
    "%%time\n",
    "from sklearn import neighbors\n",
    "\n",
    "model = neighbors.KNeighborsRegressor()\n",
    "model.fit(X, Y)\n",
    "predict_results = model.predict(X)"
   ]
  },
  {
   "cell_type": "code",
   "execution_count": 81,
   "metadata": {},
   "outputs": [
    {
     "name": "stderr",
     "output_type": "stream",
     "text": [
      "D:\\anaconda\\lib\\site-packages\\ipykernel_launcher.py:2: SettingWithCopyWarning: \n",
      "A value is trying to be set on a copy of a slice from a DataFrame.\n",
      "Try using .loc[row_indexer,col_indexer] = value instead\n",
      "\n",
      "See the caveats in the documentation: http://pandas.pydata.org/pandas-docs/stable/user_guide/indexing.html#returning-a-view-versus-a-copy\n",
      "  \n"
     ]
    }
   ],
   "source": [
    "RecommendKNN=all_traindata[['u1','u2']]\n",
    "RecommendKNN['prelabel']=pd.DataFrame(predict_results, columns=None)"
   ]
  },
  {
   "cell_type": "code",
   "execution_count": 82,
   "metadata": {},
   "outputs": [],
   "source": [
    "def Recommend_KNN(name,Topn):\n",
    "    user1=RecommendKNN[RecommendKNN.u1==name]\n",
    "    user2=RecommendKNN[RecommendKNN.u2==name]\n",
    "    user=pd.concat([user1,user2])\n",
    "    user=user.sort_values(by='prelabel',ascending=False)\n",
    "    Recommendlist=[]\n",
    "    for i in range(Topn):\n",
    "        Recommendlist.append(user.iloc[i,1])\n",
    "    return Recommendlist"
   ]
  },
  {
   "cell_type": "code",
   "execution_count": 83,
   "metadata": {},
   "outputs": [
    {
     "name": "stdout",
     "output_type": "stream",
     "text": [
      "命中率：0.13181818181818183\n"
     ]
    }
   ],
   "source": [
    "Topn_KNN=5\n",
    "Topn_true=10\n",
    "all_Precision=[]\n",
    "\n",
    "for i in alluser:\n",
    "    name=i\n",
    "    RecommendKNNlist=Recommend_KNN(name,Topn_KNN)\n",
    "    RecommendTruelist=Recommend_true(name,Topn_true)\n",
    "    Precision=len((list(set(RecommendKNNlist) & set(RecommendTruelist))))/len(RecommendTruelist)\n",
    "    all_Precision.append(Precision)\n",
    "all_Precision=np.mean(all_Precision)\n",
    "print(\"命中率：\"+str( np.mean(all_Precision)))"
   ]
  },
  {
   "cell_type": "code",
   "execution_count": 84,
   "metadata": {},
   "outputs": [
    {
     "name": "stdout",
     "output_type": "stream",
     "text": [
      "命中率：0.2060606060606061\n"
     ]
    }
   ],
   "source": [
    "Topn_KNN=10\n",
    "Topn_true=10\n",
    "all_Precision=[]\n",
    "\n",
    "for i in alluser:\n",
    "    name=i\n",
    "    RecommendKNNlist=Recommend_KNN(name,Topn_KNN)\n",
    "    RecommendTruelist=Recommend_true(name,Topn_true)\n",
    "    Precision=len((list(set(RecommendKNNlist) & set(RecommendTruelist))))/len(RecommendTruelist)\n",
    "    all_Precision.append(Precision)\n",
    "all_Precision=np.mean(all_Precision)\n",
    "print(\"命中率：\"+str( np.mean(all_Precision)))"
   ]
  },
  {
   "cell_type": "code",
   "execution_count": 85,
   "metadata": {},
   "outputs": [
    {
     "name": "stdout",
     "output_type": "stream",
     "text": [
      "命中率：0.26341991341991344\n"
     ]
    }
   ],
   "source": [
    "Topn_KNN=15\n",
    "Topn_true=10\n",
    "all_Precision=[]\n",
    "\n",
    "for i in alluser:\n",
    "    name=i\n",
    "    RecommendKNNlist=Recommend_KNN(name,Topn_KNN)\n",
    "    RecommendTruelist=Recommend_true(name,Topn_true)\n",
    "    Precision=len((list(set(RecommendKNNlist) & set(RecommendTruelist))))/len(RecommendTruelist)\n",
    "    all_Precision.append(Precision)\n",
    "all_Precision=np.mean(all_Precision)\n",
    "print(\"命中率：\"+str( np.mean(all_Precision)))"
   ]
  },
  {
   "cell_type": "code",
   "execution_count": 86,
   "metadata": {},
   "outputs": [
    {
     "name": "stdout",
     "output_type": "stream",
     "text": [
      "命中率：0.31601731601731603\n"
     ]
    }
   ],
   "source": [
    "Topn_KNN=20\n",
    "Topn_true=10\n",
    "all_Precision=[]\n",
    "\n",
    "for i in alluser:\n",
    "    name=i\n",
    "    RecommendKNNlist=Recommend_KNN(name,Topn_KNN)\n",
    "    RecommendTruelist=Recommend_true(name,Topn_true)\n",
    "    Precision=len((list(set(RecommendKNNlist) & set(RecommendTruelist))))/len(RecommendTruelist)\n",
    "    all_Precision.append(Precision)\n",
    "all_Precision=np.mean(all_Precision)\n",
    "print(\"命中率：\"+str( np.mean(all_Precision)))"
   ]
  },
  {
   "cell_type": "code",
   "execution_count": 87,
   "metadata": {},
   "outputs": [
    {
     "name": "stdout",
     "output_type": "stream",
     "text": [
      "命中率：0.359090909090909\n"
     ]
    }
   ],
   "source": [
    "Topn_KNN=25\n",
    "Topn_true=10\n",
    "all_Precision=[]\n",
    "\n",
    "for i in alluser:\n",
    "    name=i\n",
    "    RecommendKNNlist=Recommend_KNN(name,Topn_KNN)\n",
    "    RecommendTruelist=Recommend_true(name,Topn_true)\n",
    "    Precision=len((list(set(RecommendKNNlist) & set(RecommendTruelist))))/len(RecommendTruelist)\n",
    "    all_Precision.append(Precision)\n",
    "all_Precision=np.mean(all_Precision)\n",
    "print(\"命中率：\"+str( np.mean(all_Precision)))"
   ]
  },
  {
   "cell_type": "code",
   "execution_count": 88,
   "metadata": {},
   "outputs": [
    {
     "name": "stdout",
     "output_type": "stream",
     "text": [
      "命中率：0.398051948051948\n"
     ]
    }
   ],
   "source": [
    "Topn_KNN=30\n",
    "Topn_true=10\n",
    "all_Precision=[]\n",
    "\n",
    "for i in alluser:\n",
    "    name=i\n",
    "    RecommendKNNlist=Recommend_KNN(name,Topn_KNN)\n",
    "    RecommendTruelist=Recommend_true(name,Topn_true)\n",
    "    Precision=len((list(set(RecommendKNNlist) & set(RecommendTruelist))))/len(RecommendTruelist)\n",
    "    all_Precision.append(Precision)\n",
    "all_Precision=np.mean(all_Precision)\n",
    "print(\"命中率：\"+str( np.mean(all_Precision)))"
   ]
  },
  {
   "cell_type": "code",
   "execution_count": 26,
   "metadata": {},
   "outputs": [
    {
     "name": "stdout",
     "output_type": "stream",
     "text": [
      "Wall time: 2.14 s\n"
     ]
    }
   ],
   "source": [
    "%%time\n",
    "from sklearn import ensemble\n",
    "\n",
    "model = ensemble.AdaBoostRegressor()\n",
    "model.fit(X, Y)\n",
    "predict_results = model.predict(X)"
   ]
  },
  {
   "cell_type": "code",
   "execution_count": 27,
   "metadata": {},
   "outputs": [
    {
     "name": "stderr",
     "output_type": "stream",
     "text": [
      "D:\\anaconda\\lib\\site-packages\\ipykernel_launcher.py:2: SettingWithCopyWarning: \n",
      "A value is trying to be set on a copy of a slice from a DataFrame.\n",
      "Try using .loc[row_indexer,col_indexer] = value instead\n",
      "\n",
      "See the caveats in the documentation: http://pandas.pydata.org/pandas-docs/stable/user_guide/indexing.html#returning-a-view-versus-a-copy\n",
      "  \n"
     ]
    }
   ],
   "source": [
    "RecommendAda=all_traindata[['u1','u2']]\n",
    "RecommendAda['prelabel']=pd.DataFrame(predict_results, columns=None)"
   ]
  },
  {
   "cell_type": "code",
   "execution_count": 28,
   "metadata": {},
   "outputs": [],
   "source": [
    "def Recommend_Ada(name,Topn):\n",
    "    user1=RecommendAda[RecommendAda.u1==name]\n",
    "    user2=RecommendAda[RecommendAda.u2==name]\n",
    "    user=pd.concat([user1,user2])\n",
    "    user=user.sort_values(by='prelabel',ascending=False)\n",
    "    Recommendlist=[]\n",
    "    for i in range(Topn):\n",
    "        Recommendlist.append(user.iloc[i,1])\n",
    "    return Recommendlist"
   ]
  },
  {
   "cell_type": "code",
   "execution_count": 29,
   "metadata": {},
   "outputs": [
    {
     "name": "stdout",
     "output_type": "stream",
     "text": [
      "命中率：0.16969696969696976\n"
     ]
    }
   ],
   "source": [
    "Topn_Ada=5\n",
    "Topn_true=10\n",
    "all_Precision=[]\n",
    "\n",
    "for i in alluser:\n",
    "    name=i\n",
    "    RecommendAdalist=Recommend_Ada(name,Topn_Ada)\n",
    "    RecommendTruelist=Recommend_true(name,Topn_true)\n",
    "    Precision=len((list(set(RecommendAdalist) & set(RecommendTruelist))))/len(RecommendTruelist)\n",
    "    all_Precision.append(Precision)\n",
    "all_Precision=np.mean(all_Precision)\n",
    "print(\"命中率：\"+str( np.mean(all_Precision)))"
   ]
  },
  {
   "cell_type": "code",
   "execution_count": 31,
   "metadata": {},
   "outputs": [
    {
     "name": "stdout",
     "output_type": "stream",
     "text": [
      "命中率：0.2441558441558442\n"
     ]
    }
   ],
   "source": [
    "Topn_Ada=10\n",
    "Topn_true=10\n",
    "all_Precision=[]\n",
    "\n",
    "for i in alluser:\n",
    "    name=i\n",
    "    RecommendAdalist=Recommend_Ada(name,Topn_Ada)\n",
    "    RecommendTruelist=Recommend_true(name,Topn_true)\n",
    "    Precision=len((list(set(RecommendAdalist) & set(RecommendTruelist))))/len(RecommendTruelist)\n",
    "    all_Precision.append(Precision)\n",
    "all_Precision=np.mean(all_Precision)\n",
    "print(\"命中率：\"+str( np.mean(all_Precision)))"
   ]
  },
  {
   "cell_type": "code",
   "execution_count": 33,
   "metadata": {},
   "outputs": [
    {
     "name": "stdout",
     "output_type": "stream",
     "text": [
      "命中率：0.2991341991341992\n"
     ]
    }
   ],
   "source": [
    "Topn_Ada=15\n",
    "Topn_true=10\n",
    "all_Precision=[]\n",
    "\n",
    "for i in alluser:\n",
    "    name=i\n",
    "    RecommendAdalist=Recommend_Ada(name,Topn_Ada)\n",
    "    RecommendTruelist=Recommend_true(name,Topn_true)\n",
    "    Precision=len((list(set(RecommendAdalist) & set(RecommendTruelist))))/len(RecommendTruelist)\n",
    "    all_Precision.append(Precision)\n",
    "all_Precision=np.mean(all_Precision)\n",
    "print(\"命中率：\"+str( np.mean(all_Precision)))"
   ]
  },
  {
   "cell_type": "code",
   "execution_count": 36,
   "metadata": {},
   "outputs": [
    {
     "name": "stdout",
     "output_type": "stream",
     "text": [
      "命中率：0.33463203463203467\n"
     ]
    }
   ],
   "source": [
    "Topn_Ada=20\n",
    "Topn_true=10\n",
    "all_Precision=[]\n",
    "\n",
    "for i in alluser:\n",
    "    name=i\n",
    "    RecommendAdalist=Recommend_Ada(name,Topn_Ada)\n",
    "    RecommendTruelist=Recommend_true(name,Topn_true)\n",
    "    Precision=len((list(set(RecommendAdalist) & set(RecommendTruelist))))/len(RecommendTruelist)\n",
    "    all_Precision.append(Precision)\n",
    "all_Precision=np.mean(all_Precision)\n",
    "print(\"命中率：\"+str( np.mean(all_Precision)))"
   ]
  },
  {
   "cell_type": "code",
   "execution_count": 38,
   "metadata": {},
   "outputs": [
    {
     "name": "stdout",
     "output_type": "stream",
     "text": [
      "命中率：0.37662337662337664\n"
     ]
    }
   ],
   "source": [
    "Topn_Ada=25\n",
    "Topn_true=10\n",
    "all_Precision=[]\n",
    "\n",
    "for i in alluser:\n",
    "    name=i\n",
    "    RecommendAdalist=Recommend_Ada(name,Topn_Ada)\n",
    "    RecommendTruelist=Recommend_true(name,Topn_true)\n",
    "    Precision=len((list(set(RecommendAdalist) & set(RecommendTruelist))))/len(RecommendTruelist)\n",
    "    all_Precision.append(Precision)\n",
    "all_Precision=np.mean(all_Precision)\n",
    "print(\"命中率：\"+str( np.mean(all_Precision)))"
   ]
  },
  {
   "cell_type": "code",
   "execution_count": 40,
   "metadata": {},
   "outputs": [
    {
     "name": "stdout",
     "output_type": "stream",
     "text": [
      "命中率：0.4064935064935066\n"
     ]
    }
   ],
   "source": [
    "Topn_Ada=30\n",
    "Topn_true=10\n",
    "all_Precision=[]\n",
    "\n",
    "for i in alluser:\n",
    "    name=i\n",
    "    RecommendAdalist=Recommend_Ada(name,Topn_Ada)\n",
    "    RecommendTruelist=Recommend_true(name,Topn_true)\n",
    "    Precision=len((list(set(RecommendAdalist) & set(RecommendTruelist))))/len(RecommendTruelist)\n",
    "    all_Precision.append(Precision)\n",
    "all_Precision=np.mean(all_Precision)\n",
    "print(\"命中率：\"+str( np.mean(all_Precision)))"
   ]
  },
  {
   "cell_type": "code",
   "execution_count": null,
   "metadata": {},
   "outputs": [],
   "source": []
  }
 ],
 "metadata": {
  "kernelspec": {
   "display_name": "Python 3",
   "language": "python",
   "name": "python3"
  },
  "language_info": {
   "codemirror_mode": {
    "name": "ipython",
    "version": 3
   },
   "file_extension": ".py",
   "mimetype": "text/x-python",
   "name": "python",
   "nbconvert_exporter": "python",
   "pygments_lexer": "ipython3",
   "version": "3.7.4"
  },
  "toc": {
   "base_numbering": 1,
   "nav_menu": {},
   "number_sections": true,
   "sideBar": true,
   "skip_h1_title": false,
   "title_cell": "Table of Contents",
   "title_sidebar": "Contents",
   "toc_cell": false,
   "toc_position": {},
   "toc_section_display": true,
   "toc_window_display": false
  },
  "varInspector": {
   "cols": {
    "lenName": 16,
    "lenType": 16,
    "lenVar": 40
   },
   "kernels_config": {
    "python": {
     "delete_cmd_postfix": "",
     "delete_cmd_prefix": "del ",
     "library": "var_list.py",
     "varRefreshCmd": "print(var_dic_list())"
    },
    "r": {
     "delete_cmd_postfix": ") ",
     "delete_cmd_prefix": "rm(",
     "library": "var_list.r",
     "varRefreshCmd": "cat(var_dic_list()) "
    }
   },
   "types_to_exclude": [
    "module",
    "function",
    "builtin_function_or_method",
    "instance",
    "_Feature"
   ],
   "window_display": false
  }
 },
 "nbformat": 4,
 "nbformat_minor": 2
}
