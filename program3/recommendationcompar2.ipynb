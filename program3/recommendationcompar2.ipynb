{
 "cells": [
  {
   "cell_type": "code",
   "execution_count": 2,
   "metadata": {},
   "outputs": [
    {
     "data": {
      "text/html": [
       "<div>\n",
       "<style scoped>\n",
       "    .dataframe tbody tr th:only-of-type {\n",
       "        vertical-align: middle;\n",
       "    }\n",
       "\n",
       "    .dataframe tbody tr th {\n",
       "        vertical-align: top;\n",
       "    }\n",
       "\n",
       "    .dataframe thead th {\n",
       "        text-align: right;\n",
       "    }\n",
       "</style>\n",
       "<table border=\"1\" class=\"dataframe\">\n",
       "  <thead>\n",
       "    <tr style=\"text-align: right;\">\n",
       "      <th></th>\n",
       "      <th>u1</th>\n",
       "      <th>u2</th>\n",
       "      <th>Paper_similarity</th>\n",
       "      <th>Social_similarity</th>\n",
       "      <th>active</th>\n",
       "      <th>label</th>\n",
       "    </tr>\n",
       "  </thead>\n",
       "  <tbody>\n",
       "    <tr>\n",
       "      <td>0</td>\n",
       "      <td>Jianbo Bai</td>\n",
       "      <td>Fei Cao</td>\n",
       "      <td>0.978358</td>\n",
       "      <td>0.070833</td>\n",
       "      <td>163.525</td>\n",
       "      <td>0.533152</td>\n",
       "    </tr>\n",
       "    <tr>\n",
       "      <td>1</td>\n",
       "      <td>Jianbo Bai</td>\n",
       "      <td>Jiajie Fan</td>\n",
       "      <td>0.977131</td>\n",
       "      <td>0.059728</td>\n",
       "      <td>293.025</td>\n",
       "      <td>0.658849</td>\n",
       "    </tr>\n",
       "    <tr>\n",
       "      <td>2</td>\n",
       "      <td>Jianbo Bai</td>\n",
       "      <td>Cuicui Ji</td>\n",
       "      <td>0.969673</td>\n",
       "      <td>0.048258</td>\n",
       "      <td>31.650</td>\n",
       "      <td>0.587518</td>\n",
       "    </tr>\n",
       "    <tr>\n",
       "      <td>3</td>\n",
       "      <td>Jianbo Bai</td>\n",
       "      <td>Song Qining</td>\n",
       "      <td>0.945368</td>\n",
       "      <td>0.032770</td>\n",
       "      <td>65.875</td>\n",
       "      <td>0.340499</td>\n",
       "    </tr>\n",
       "    <tr>\n",
       "      <td>4</td>\n",
       "      <td>Jianbo Bai</td>\n",
       "      <td>Xiang Sun</td>\n",
       "      <td>0.966399</td>\n",
       "      <td>0.051455</td>\n",
       "      <td>614.925</td>\n",
       "      <td>0.383975</td>\n",
       "    </tr>\n",
       "  </tbody>\n",
       "</table>\n",
       "</div>"
      ],
      "text/plain": [
       "           u1           u2  Paper_similarity  Social_similarity   active  \\\n",
       "0  Jianbo Bai      Fei Cao          0.978358           0.070833  163.525   \n",
       "1  Jianbo Bai   Jiajie Fan          0.977131           0.059728  293.025   \n",
       "2  Jianbo Bai    Cuicui Ji          0.969673           0.048258   31.650   \n",
       "3  Jianbo Bai  Song Qining          0.945368           0.032770   65.875   \n",
       "4  Jianbo Bai    Xiang Sun          0.966399           0.051455  614.925   \n",
       "\n",
       "      label  \n",
       "0  0.533152  \n",
       "1  0.658849  \n",
       "2  0.587518  \n",
       "3  0.340499  \n",
       "4  0.383975  "
      ]
     },
     "execution_count": 2,
     "metadata": {},
     "output_type": "execute_result"
    }
   ],
   "source": [
    "import pandas as pd\n",
    "all_traindata=pd.read_csv('all_traindata111.csv',header=None)\n",
    "all_traindata.columns=['u1','u2','Paper_similarity','Social_similarity','active','label']\n",
    "all_traindata.head()"
   ]
  },
  {
   "cell_type": "code",
   "execution_count": 2,
   "metadata": {},
   "outputs": [
    {
     "data": {
      "text/plain": [
       "(189420, 6)"
      ]
     },
     "execution_count": 2,
     "metadata": {},
     "output_type": "execute_result"
    }
   ],
   "source": [
    "all_traindata.shape"
   ]
  },
  {
   "cell_type": "code",
   "execution_count": 3,
   "metadata": {},
   "outputs": [],
   "source": [
    "from sklearn.model_selection import train_test_split\n",
    "X=all_traindata[['Paper_similarity','Social_similarity','active']]\n",
    "Y=all_traindata['label']\n",
    "X_train,X_test, y_train, y_test = train_test_split(X, Y, test_size=0.1,random_state=0)"
   ]
  },
  {
   "cell_type": "code",
   "execution_count": 10,
   "metadata": {},
   "outputs": [],
   "source": [
    "from sklearn.neural_network import MLPRegressor\n",
    "from sklearn.metrics import mean_squared_error\n",
    "from sklearn.metrics import r2_score\n",
    "import numpy as np\n",
    " \n",
    "def mae_value(y_true, y_pred):\n",
    "\n",
    "    n = len(y_true)\n",
    "    mae = sum(np.abs(y_true - y_pred))/n\n",
    "    return mae\n",
    "\n"
   ]
  },
  {
   "cell_type": "code",
   "execution_count": 13,
   "metadata": {},
   "outputs": [
    {
     "name": "stdout",
     "output_type": "stream",
     "text": [
      "mae：\n",
      "0.12137586926644457\n",
      "MSE：\n",
      "0.02486067596605259\n",
      "RMSE：\n",
      "0.15767268617630825\n",
      "Wall time: 3min 31s\n"
     ]
    }
   ],
   "source": [
    "%%time\n",
    "clf = MLPRegressor(hidden_layer_sizes=(10,10))\n",
    "\n",
    "clf.fit(X_train,y_train)\n",
    "predict_results=clf.predict(X_test)\n",
    "print('mae：')\n",
    "print(mae_value(predict_results,y_train))\n",
    "print('MSE：')\n",
    "print(mean_squared_error(predict_results,y_test))\n",
    "print('RMSE：')\n",
    "print(np.sqrt(mean_squared_error(predict_results,y_test)))"
   ]
  },
  {
   "cell_type": "code",
   "execution_count": null,
   "metadata": {},
   "outputs": [],
   "source": []
  },
  {
   "cell_type": "code",
   "execution_count": 21,
   "metadata": {},
   "outputs": [
    {
     "name": "stdout",
     "output_type": "stream",
     "text": [
      "MAE：\n",
      "0.2156622655878601\n",
      "MSE：\n",
      "0.12249880396681867\n",
      "RMSE：\n",
      "0.34999829137699895\n",
      "Wall time: 9.87 s\n"
     ]
    }
   ],
   "source": [
    "%%time\n",
    "from sklearn.ensemble import GradientBoostingRegressor\n",
    "\n",
    "gbdt_model = GradientBoostingRegressor()\n",
    "gbdt_model.fit(X_train, y_train)\n",
    "predict_results = gbdt_model.predict(X_test)\n",
    "print('MAE：')\n",
    "print(mae_value(predict_results,y_test))\n",
    "print('MSE：')\n",
    "print(mean_squared_error(predict_results,y_test))\n",
    "print('RMSE：')\n",
    "print(np.sqrt(mean_squared_error(predict_results,y_test)))"
   ]
  },
  {
   "cell_type": "code",
   "execution_count": 23,
   "metadata": {},
   "outputs": [
    {
     "name": "stderr",
     "output_type": "stream",
     "text": [
      "d:\\python3.5.4\\lib\\site-packages\\sklearn\\ensemble\\forest.py:246: FutureWarning: The default value of n_estimators will change from 10 in version 0.20 to 100 in 0.22.\n",
      "  \"10 in version 0.20 to 100 in 0.22.\", FutureWarning)\n"
     ]
    },
    {
     "name": "stdout",
     "output_type": "stream",
     "text": [
      "MAE：\n",
      "0.12094079467324538\n",
      "MSE：\n",
      "0.07330237264574295\n",
      "RMSE：\n",
      "0.27074410916166386\n",
      "Wall time: 9.62 s\n"
     ]
    }
   ],
   "source": [
    "%%time\n",
    "from sklearn.ensemble import RandomForestRegressor\n",
    "\n",
    "forest = RandomForestRegressor()#\n",
    "forest.fit(X_train, y_train)\n",
    "predict_results = forest.predict(X_test)\n",
    "\n",
    "print('MAE：')\n",
    "print(mae_value(predict_results,y_test))\n",
    "print('MSE：')\n",
    "print(mean_squared_error(predict_results,y_test))\n",
    "print('RMSE：')\n",
    "print(np.sqrt(mean_squared_error(predict_results,y_test)))"
   ]
  },
  {
   "cell_type": "code",
   "execution_count": 24,
   "metadata": {},
   "outputs": [
    {
     "name": "stdout",
     "output_type": "stream",
     "text": [
      "MAE：\n",
      "0.1523323733806066\n",
      "MSE：\n",
      "0.14444291467790174\n",
      "RMSE：\n",
      "0.3800564624866965\n",
      "Wall time: 594 ms\n"
     ]
    }
   ],
   "source": [
    "%%time\n",
    "from sklearn.linear_model import LinearRegression\n",
    "\n",
    "model = LinearRegression()#\n",
    "model.fit(X_train, y_train)\n",
    "predict_results = model.predict(X_test)\n",
    "\n",
    "print('MAE：')\n",
    "print(mae_value(predict_results,y_test))\n",
    "print('MSE：')\n",
    "print(mean_squared_error(predict_results,y_test))\n",
    "print('RMSE：')\n",
    "print(np.sqrt(mean_squared_error(predict_results,y_test)))"
   ]
  },
  {
   "cell_type": "code",
   "execution_count": null,
   "metadata": {},
   "outputs": [],
   "source": []
  }
 ],
 "metadata": {
  "kernelspec": {
   "display_name": "Python 3",
   "language": "python",
   "name": "python3"
  },
  "language_info": {
   "codemirror_mode": {
    "name": "ipython",
    "version": 3
   },
   "file_extension": ".py",
   "mimetype": "text/x-python",
   "name": "python",
   "nbconvert_exporter": "python",
   "pygments_lexer": "ipython3",
   "version": "3.7.4"
  },
  "toc": {
   "base_numbering": 1,
   "nav_menu": {},
   "number_sections": true,
   "sideBar": true,
   "skip_h1_title": false,
   "title_cell": "Table of Contents",
   "title_sidebar": "Contents",
   "toc_cell": false,
   "toc_position": {},
   "toc_section_display": true,
   "toc_window_display": false
  },
  "varInspector": {
   "cols": {
    "lenName": 16,
    "lenType": 16,
    "lenVar": 40
   },
   "kernels_config": {
    "python": {
     "delete_cmd_postfix": "",
     "delete_cmd_prefix": "del ",
     "library": "var_list.py",
     "varRefreshCmd": "print(var_dic_list())"
    },
    "r": {
     "delete_cmd_postfix": ") ",
     "delete_cmd_prefix": "rm(",
     "library": "var_list.r",
     "varRefreshCmd": "cat(var_dic_list()) "
    }
   },
   "types_to_exclude": [
    "module",
    "function",
    "builtin_function_or_method",
    "instance",
    "_Feature"
   ],
   "window_display": false
  }
 },
 "nbformat": 4,
 "nbformat_minor": 2
}
