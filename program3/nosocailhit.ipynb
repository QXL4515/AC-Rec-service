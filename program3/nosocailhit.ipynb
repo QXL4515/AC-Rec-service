{
 "cells": [
  {
   "cell_type": "code",
   "execution_count": 1,
   "metadata": {},
   "outputs": [
    {
     "data": {
      "text/html": [
       "<div>\n",
       "<style scoped>\n",
       "    .dataframe tbody tr th:only-of-type {\n",
       "        vertical-align: middle;\n",
       "    }\n",
       "\n",
       "    .dataframe tbody tr th {\n",
       "        vertical-align: top;\n",
       "    }\n",
       "\n",
       "    .dataframe thead th {\n",
       "        text-align: right;\n",
       "    }\n",
       "</style>\n",
       "<table border=\"1\" class=\"dataframe\">\n",
       "  <thead>\n",
       "    <tr style=\"text-align: right;\">\n",
       "      <th></th>\n",
       "      <th>u1</th>\n",
       "      <th>u2</th>\n",
       "      <th>Paper_similarity</th>\n",
       "      <th>Social_similarity</th>\n",
       "      <th>active</th>\n",
       "      <th>label</th>\n",
       "    </tr>\n",
       "  </thead>\n",
       "  <tbody>\n",
       "    <tr>\n",
       "      <td>0</td>\n",
       "      <td>Jianbo Bai</td>\n",
       "      <td>Cuicui Ji</td>\n",
       "      <td>0.969673</td>\n",
       "      <td>0.051040</td>\n",
       "      <td>31.650</td>\n",
       "      <td>0.587518</td>\n",
       "    </tr>\n",
       "    <tr>\n",
       "      <td>1</td>\n",
       "      <td>Jianbo Bai</td>\n",
       "      <td>Song Qining</td>\n",
       "      <td>0.945368</td>\n",
       "      <td>0.034257</td>\n",
       "      <td>65.875</td>\n",
       "      <td>0.340499</td>\n",
       "    </tr>\n",
       "    <tr>\n",
       "      <td>2</td>\n",
       "      <td>Jianbo Bai</td>\n",
       "      <td>Yanqin Shangguan</td>\n",
       "      <td>0.964137</td>\n",
       "      <td>0.005598</td>\n",
       "      <td>20.525</td>\n",
       "      <td>0.685433</td>\n",
       "    </tr>\n",
       "    <tr>\n",
       "      <td>3</td>\n",
       "      <td>Jianbo Bai</td>\n",
       "      <td>Imran Dawy</td>\n",
       "      <td>0.968145</td>\n",
       "      <td>0.090386</td>\n",
       "      <td>0.925</td>\n",
       "      <td>0.594375</td>\n",
       "    </tr>\n",
       "    <tr>\n",
       "      <td>4</td>\n",
       "      <td>Jianbo Bai</td>\n",
       "      <td>Li Xiangguo</td>\n",
       "      <td>0.959414</td>\n",
       "      <td>0.012972</td>\n",
       "      <td>3.400</td>\n",
       "      <td>0.510781</td>\n",
       "    </tr>\n",
       "  </tbody>\n",
       "</table>\n",
       "</div>"
      ],
      "text/plain": [
       "           u1                u2  Paper_similarity  Social_similarity  active  \\\n",
       "0  Jianbo Bai         Cuicui Ji          0.969673           0.051040  31.650   \n",
       "1  Jianbo Bai       Song Qining          0.945368           0.034257  65.875   \n",
       "2  Jianbo Bai  Yanqin Shangguan          0.964137           0.005598  20.525   \n",
       "3  Jianbo Bai        Imran Dawy          0.968145           0.090386   0.925   \n",
       "4  Jianbo Bai       Li Xiangguo          0.959414           0.012972   3.400   \n",
       "\n",
       "      label  \n",
       "0  0.587518  \n",
       "1  0.340499  \n",
       "2  0.685433  \n",
       "3  0.594375  \n",
       "4  0.510781  "
      ]
     },
     "execution_count": 1,
     "metadata": {},
     "output_type": "execute_result"
    }
   ],
   "source": [
    "import pandas as pd\n",
    "all_traindata=pd.read_csv('all_traindata111.csv',header=None)\n",
    "all_traindata.columns=['u1','u2','Paper_similarity','Social_similarity','active','label']\n",
    "all_traindata.head()"
   ]
  },
  {
   "cell_type": "code",
   "execution_count": 2,
   "metadata": {},
   "outputs": [
    {
     "data": {
      "text/plain": [
       "(7895, 6)"
      ]
     },
     "execution_count": 2,
     "metadata": {},
     "output_type": "execute_result"
    }
   ],
   "source": [
    "all_traindata.shape"
   ]
  },
  {
   "cell_type": "code",
   "execution_count": 3,
   "metadata": {},
   "outputs": [
    {
     "data": {
      "text/html": [
       "<div>\n",
       "<style scoped>\n",
       "    .dataframe tbody tr th:only-of-type {\n",
       "        vertical-align: middle;\n",
       "    }\n",
       "\n",
       "    .dataframe tbody tr th {\n",
       "        vertical-align: top;\n",
       "    }\n",
       "\n",
       "    .dataframe thead th {\n",
       "        text-align: right;\n",
       "    }\n",
       "</style>\n",
       "<table border=\"1\" class=\"dataframe\">\n",
       "  <thead>\n",
       "    <tr style=\"text-align: right;\">\n",
       "      <th></th>\n",
       "      <th>u1</th>\n",
       "      <th>u2</th>\n",
       "      <th>Paper_similarity</th>\n",
       "      <th>Social_similarity</th>\n",
       "      <th>active</th>\n",
       "      <th>label</th>\n",
       "    </tr>\n",
       "  </thead>\n",
       "  <tbody>\n",
       "    <tr>\n",
       "      <td>0</td>\n",
       "      <td>Jianbo Bai</td>\n",
       "      <td>Cuicui Ji</td>\n",
       "      <td>0.864370</td>\n",
       "      <td>0.052139</td>\n",
       "      <td>0.029712</td>\n",
       "      <td>0.599466</td>\n",
       "    </tr>\n",
       "    <tr>\n",
       "      <td>1</td>\n",
       "      <td>Jianbo Bai</td>\n",
       "      <td>Song Qining</td>\n",
       "      <td>0.749949</td>\n",
       "      <td>0.034995</td>\n",
       "      <td>0.062123</td>\n",
       "      <td>0.359602</td>\n",
       "    </tr>\n",
       "    <tr>\n",
       "      <td>2</td>\n",
       "      <td>Jianbo Bai</td>\n",
       "      <td>Yanqin Shangguan</td>\n",
       "      <td>0.838309</td>\n",
       "      <td>0.005718</td>\n",
       "      <td>0.019177</td>\n",
       "      <td>0.694544</td>\n",
       "    </tr>\n",
       "    <tr>\n",
       "      <td>3</td>\n",
       "      <td>Jianbo Bai</td>\n",
       "      <td>Imran Dawy</td>\n",
       "      <td>0.857179</td>\n",
       "      <td>0.092333</td>\n",
       "      <td>0.000616</td>\n",
       "      <td>0.606124</td>\n",
       "    </tr>\n",
       "    <tr>\n",
       "      <td>4</td>\n",
       "      <td>Jianbo Bai</td>\n",
       "      <td>Li Xiangguo</td>\n",
       "      <td>0.816072</td>\n",
       "      <td>0.013251</td>\n",
       "      <td>0.002959</td>\n",
       "      <td>0.524951</td>\n",
       "    </tr>\n",
       "  </tbody>\n",
       "</table>\n",
       "</div>"
      ],
      "text/plain": [
       "           u1                u2  Paper_similarity  Social_similarity  \\\n",
       "0  Jianbo Bai         Cuicui Ji          0.864370           0.052139   \n",
       "1  Jianbo Bai       Song Qining          0.749949           0.034995   \n",
       "2  Jianbo Bai  Yanqin Shangguan          0.838309           0.005718   \n",
       "3  Jianbo Bai        Imran Dawy          0.857179           0.092333   \n",
       "4  Jianbo Bai       Li Xiangguo          0.816072           0.013251   \n",
       "\n",
       "     active     label  \n",
       "0  0.029712  0.599466  \n",
       "1  0.062123  0.359602  \n",
       "2  0.019177  0.694544  \n",
       "3  0.000616  0.606124  \n",
       "4  0.002959  0.524951  "
      ]
     },
     "execution_count": 3,
     "metadata": {},
     "output_type": "execute_result"
    }
   ],
   "source": [
    "all_traindata['Paper_similarity']=(all_traindata.Paper_similarity-all_traindata.Paper_similarity.min())/(all_traindata.Paper_similarity.max()-all_traindata.Paper_similarity.min())\n",
    "all_traindata['Social_similarity']=(all_traindata.Social_similarity-all_traindata.Social_similarity.min())/(all_traindata.Social_similarity.max()-all_traindata.Social_similarity.min())\n",
    "all_traindata['active']=(all_traindata.active-all_traindata.active.min())/(all_traindata.active.max()-all_traindata.active.min())\n",
    "all_traindata['label']=(all_traindata.label-all_traindata.label.min())/(all_traindata.label.max()-all_traindata.label.min())\n",
    "all_traindata.head()"
   ]
  },
  {
   "cell_type": "code",
   "execution_count": 4,
   "metadata": {},
   "outputs": [],
   "source": [
    "def Recommend_true(name,Topn):\n",
    "    user1=all_traindata[all_traindata.u1==name]\n",
    "    user2=all_traindata[all_traindata.u2==name]\n",
    "    user=pd.concat([user1,user2])\n",
    "    user=user.sort_values(by='label',ascending=False)\n",
    "    Recommendlist=[]\n",
    "    for i in range(Topn):\n",
    "        Recommendlist.append(user.iloc[i,1])\n",
    "    return Recommendlist\n"
   ]
  },
  {
   "cell_type": "code",
   "execution_count": 8,
   "metadata": {},
   "outputs": [],
   "source": [
    "from sklearn.model_selection import train_test_split\n",
    "from sklearn.neural_network import MLPRegressor\n",
    "import numpy as np"
   ]
  },
  {
   "cell_type": "code",
   "execution_count": 9,
   "metadata": {},
   "outputs": [],
   "source": [
    "X=all_traindata[['Paper_similarity','active']]\n",
    "Y=all_traindata['label']\n",
    "alluser=all_traindata['u1'].unique().tolist()"
   ]
  },
  {
   "cell_type": "code",
   "execution_count": 10,
   "metadata": {},
   "outputs": [
    {
     "name": "stdout",
     "output_type": "stream",
     "text": [
      "Wall time: 5.42 s\n"
     ]
    }
   ],
   "source": [
    "%%time\n",
    "clf = MLPRegressor(hidden_layer_sizes=(10,10))\n",
    "clf.fit(X,Y)\n",
    "predict_results=clf.predict(X)"
   ]
  },
  {
   "cell_type": "code",
   "execution_count": 11,
   "metadata": {},
   "outputs": [
    {
     "name": "stderr",
     "output_type": "stream",
     "text": [
      "D:\\anaconda\\lib\\site-packages\\ipykernel_launcher.py:2: SettingWithCopyWarning: \n",
      "A value is trying to be set on a copy of a slice from a DataFrame.\n",
      "Try using .loc[row_indexer,col_indexer] = value instead\n",
      "\n",
      "See the caveats in the documentation: http://pandas.pydata.org/pandas-docs/stable/user_guide/indexing.html#returning-a-view-versus-a-copy\n",
      "  \n"
     ]
    }
   ],
   "source": [
    "RecommendMLP=all_traindata[['u1','u2']]\n",
    "RecommendMLP['prelabel']=pd.DataFrame(predict_results, columns=None)"
   ]
  },
  {
   "cell_type": "code",
   "execution_count": 12,
   "metadata": {},
   "outputs": [],
   "source": [
    "def Recommend_mlp(name,Topn):\n",
    "    user1=RecommendMLP[RecommendMLP.u1==name]\n",
    "    user2=RecommendMLP[RecommendMLP.u2==name]\n",
    "    user=pd.concat([user1,user2])\n",
    "    user=user.sort_values(by='prelabel',ascending=False)\n",
    "    Recommendlist=[]\n",
    "    for i in range(Topn):\n",
    "        Recommendlist.append(user.iloc[i,1])\n",
    "    return Recommendlist"
   ]
  },
  {
   "cell_type": "code",
   "execution_count": 20,
   "metadata": {},
   "outputs": [
    {
     "name": "stdout",
     "output_type": "stream",
     "text": [
      "命中率：0.1610389610389611\n"
     ]
    }
   ],
   "source": [
    "Topn_mlp=5\n",
    "Topn_true=10\n",
    "all_Precision=[]\n",
    "for i in alluser:\n",
    "    name=i\n",
    "\n",
    "    RecommendMLPlist=Recommend_mlp(name,Topn_mlp)\n",
    "    RecommendTruelist=Recommend_true(name,Topn_true)\n",
    "    Precision=len((list(set(RecommendMLPlist) & set(RecommendTruelist))))/len(RecommendTruelist)\n",
    "    all_Precision.append(Precision)\n",
    "print(\"命中率：\"+str( np.mean(all_Precision)))"
   ]
  },
  {
   "cell_type": "code",
   "execution_count": 21,
   "metadata": {},
   "outputs": [
    {
     "name": "stdout",
     "output_type": "stream",
     "text": [
      "命中率：0.24199134199134203\n"
     ]
    }
   ],
   "source": [
    "Topn_mlp=10\n",
    "Topn_true=10\n",
    "all_Precision=[]\n",
    "for i in alluser:\n",
    "    name=i\n",
    "\n",
    "    RecommendMLPlist=Recommend_mlp(name,Topn_mlp)\n",
    "    RecommendTruelist=Recommend_true(name,Topn_true)\n",
    "    Precision=len((list(set(RecommendMLPlist) & set(RecommendTruelist))))/len(RecommendTruelist)\n",
    "    all_Precision.append(Precision)\n",
    "print(\"命中率：\"+str( np.mean(all_Precision)))"
   ]
  },
  {
   "cell_type": "code",
   "execution_count": 22,
   "metadata": {},
   "outputs": [
    {
     "name": "stdout",
     "output_type": "stream",
     "text": [
      "命中率：0.2891774891774892\n"
     ]
    }
   ],
   "source": [
    "Topn_mlp=15\n",
    "Topn_true=10\n",
    "all_Precision=[]\n",
    "for i in alluser:\n",
    "    name=i\n",
    "\n",
    "    RecommendMLPlist=Recommend_mlp(name,Topn_mlp)\n",
    "    RecommendTruelist=Recommend_true(name,Topn_true)\n",
    "    Precision=len((list(set(RecommendMLPlist) & set(RecommendTruelist))))/len(RecommendTruelist)\n",
    "    all_Precision.append(Precision)\n",
    "print(\"命中率：\"+str( np.mean(all_Precision)))"
   ]
  },
  {
   "cell_type": "code",
   "execution_count": 23,
   "metadata": {},
   "outputs": [
    {
     "name": "stdout",
     "output_type": "stream",
     "text": [
      "命中率：0.3303030303030304\n"
     ]
    }
   ],
   "source": [
    "Topn_mlp=20\n",
    "Topn_true=10\n",
    "all_Precision=[]\n",
    "for i in alluser:\n",
    "    name=i\n",
    "\n",
    "    RecommendMLPlist=Recommend_mlp(name,Topn_mlp)\n",
    "    RecommendTruelist=Recommend_true(name,Topn_true)\n",
    "    Precision=len((list(set(RecommendMLPlist) & set(RecommendTruelist))))/len(RecommendTruelist)\n",
    "    all_Precision.append(Precision)\n",
    "print(\"命中率：\"+str( np.mean(all_Precision)))"
   ]
  },
  {
   "cell_type": "code",
   "execution_count": 24,
   "metadata": {},
   "outputs": [
    {
     "name": "stdout",
     "output_type": "stream",
     "text": [
      "命中率：0.3645021645021645\n"
     ]
    }
   ],
   "source": [
    "Topn_mlp=25\n",
    "Topn_true=10\n",
    "all_Precision=[]\n",
    "for i in alluser:\n",
    "    name=i\n",
    "\n",
    "    RecommendMLPlist=Recommend_mlp(name,Topn_mlp)\n",
    "    RecommendTruelist=Recommend_true(name,Topn_true)\n",
    "    Precision=len((list(set(RecommendMLPlist) & set(RecommendTruelist))))/len(RecommendTruelist)\n",
    "    all_Precision.append(Precision)\n",
    "print(\"命中率：\"+str( np.mean(all_Precision)))"
   ]
  },
  {
   "cell_type": "code",
   "execution_count": 25,
   "metadata": {},
   "outputs": [
    {
     "name": "stdout",
     "output_type": "stream",
     "text": [
      "命中率：0.3982683982683983\n"
     ]
    }
   ],
   "source": [
    "Topn_mlp=30\n",
    "Topn_true=10\n",
    "all_Precision=[]\n",
    "for i in alluser:\n",
    "    name=i\n",
    "\n",
    "    RecommendMLPlist=Recommend_mlp(name,Topn_mlp)\n",
    "    RecommendTruelist=Recommend_true(name,Topn_true)\n",
    "    Precision=len((list(set(RecommendMLPlist) & set(RecommendTruelist))))/len(RecommendTruelist)\n",
    "    all_Precision.append(Precision)\n",
    "print(\"命中率：\"+str( np.mean(all_Precision)))"
   ]
  },
  {
   "cell_type": "code",
   "execution_count": 63,
   "metadata": {},
   "outputs": [
    {
     "name": "stdout",
     "output_type": "stream",
     "text": [
      "Wall time: 115 ms\n"
     ]
    }
   ],
   "source": [
    "%%time\n",
    "from sklearn.ensemble import GradientBoostingRegressor\n",
    "\n",
    "gbdt_model = GradientBoostingRegressor()\n",
    "gbdt_model.fit(X, Y)\n",
    "predict_results = gbdt_model.predict(X)"
   ]
  },
  {
   "cell_type": "code",
   "execution_count": 64,
   "metadata": {},
   "outputs": [
    {
     "name": "stderr",
     "output_type": "stream",
     "text": [
      "D:\\anaconda\\lib\\site-packages\\ipykernel_launcher.py:2: SettingWithCopyWarning: \n",
      "A value is trying to be set on a copy of a slice from a DataFrame.\n",
      "Try using .loc[row_indexer,col_indexer] = value instead\n",
      "\n",
      "See the caveats in the documentation: http://pandas.pydata.org/pandas-docs/stable/user_guide/indexing.html#returning-a-view-versus-a-copy\n",
      "  \n"
     ]
    }
   ],
   "source": [
    "RecommendGBDT=all_traindata[['u1','u2']]\n",
    "RecommendGBDT['prelabel']=pd.DataFrame(predict_results, columns=None)"
   ]
  },
  {
   "cell_type": "code",
   "execution_count": 65,
   "metadata": {},
   "outputs": [],
   "source": [
    "def Recommend_GBDT(name,Topn):\n",
    "    user1=RecommendGBDT[RecommendGBDT.u1==name]\n",
    "    user2=RecommendGBDT[RecommendGBDT.u2==name]\n",
    "    user=pd.concat([user1,user2])\n",
    "    user=user.sort_values(by='prelabel',ascending=False)\n",
    "    Recommendlist=[]\n",
    "    for i in range(Topn):\n",
    "        Recommendlist.append(user.iloc[i,1])\n",
    "    return Recommendlist"
   ]
  },
  {
   "cell_type": "code",
   "execution_count": 66,
   "metadata": {},
   "outputs": [
    {
     "name": "stdout",
     "output_type": "stream",
     "text": [
      "命中率：0.10346320346320345\n"
     ]
    }
   ],
   "source": [
    "Topn_GBDT=5\n",
    "Topn_true=10\n",
    "all_Precision=[]\n",
    "for i in alluser:\n",
    "    name=i\n",
    "    RecommendGBDTlist=Recommend_GBDT(name,Topn_GBDT)\n",
    "    RecommendTruelist=Recommend_true(name,Topn_true)\n",
    "    Precision=len((list(set(RecommendGBDTlist) & set(RecommendTruelist))))/len(RecommendTruelist)\n",
    "    all_Precision.append(Precision)\n",
    "all_Precision=np.mean(all_Precision)\n",
    "print(\"命中率：\"+str( np.mean(all_Precision)))"
   ]
  },
  {
   "cell_type": "code",
   "execution_count": 67,
   "metadata": {},
   "outputs": [
    {
     "name": "stdout",
     "output_type": "stream",
     "text": [
      "命中率：0.17388167388167391\n"
     ]
    }
   ],
   "source": [
    "Topn_GBDT=10\n",
    "Topn_true=10\n",
    "all_Precision=[]\n",
    "for i in alluser:\n",
    "    name=i\n",
    "    RecommendGBDTlist=Recommend_GBDT(name,Topn_GBDT)\n",
    "    RecommendTruelist=Recommend_true(name,Topn_true)\n",
    "    Precision=len((list(set(RecommendGBDTlist) & set(RecommendTruelist))))/len(RecommendTruelist)\n",
    "    all_Precision.append(Precision)\n",
    "all_Precision=np.mean(all_Precision)\n",
    "print(\"命中率：\"+str( np.mean(all_Precision)))"
   ]
  },
  {
   "cell_type": "code",
   "execution_count": 68,
   "metadata": {},
   "outputs": [
    {
     "name": "stdout",
     "output_type": "stream",
     "text": [
      "命中率：0.22958152958152964\n"
     ]
    }
   ],
   "source": [
    "Topn_GBDT=15\n",
    "Topn_true=10\n",
    "all_Precision=[]\n",
    "for i in alluser:\n",
    "    name=i\n",
    "    RecommendGBDTlist=Recommend_GBDT(name,Topn_GBDT)\n",
    "    RecommendTruelist=Recommend_true(name,Topn_true)\n",
    "    Precision=len((list(set(RecommendGBDTlist) & set(RecommendTruelist))))/len(RecommendTruelist)\n",
    "    all_Precision.append(Precision)\n",
    "all_Precision=np.mean(all_Precision)\n",
    "print(\"命中率：\"+str( np.mean(all_Precision)))"
   ]
  },
  {
   "cell_type": "code",
   "execution_count": 69,
   "metadata": {},
   "outputs": [
    {
     "name": "stdout",
     "output_type": "stream",
     "text": [
      "命中率：0.2774891774891775\n"
     ]
    }
   ],
   "source": [
    "Topn_GBDT=20\n",
    "Topn_true=10\n",
    "all_Precision=[]\n",
    "for i in alluser:\n",
    "    name=i\n",
    "    RecommendGBDTlist=Recommend_GBDT(name,Topn_GBDT)\n",
    "    RecommendTruelist=Recommend_true(name,Topn_true)\n",
    "    Precision=len((list(set(RecommendGBDTlist) & set(RecommendTruelist))))/len(RecommendTruelist)\n",
    "    all_Precision.append(Precision)\n",
    "all_Precision=np.mean(all_Precision)\n",
    "print(\"命中率：\"+str( np.mean(all_Precision)))"
   ]
  },
  {
   "cell_type": "code",
   "execution_count": 70,
   "metadata": {},
   "outputs": [
    {
     "name": "stdout",
     "output_type": "stream",
     "text": [
      "命中率：0.3258297258297258\n"
     ]
    }
   ],
   "source": [
    "Topn_GBDT=25\n",
    "Topn_true=10\n",
    "all_Precision=[]\n",
    "for i in alluser:\n",
    "    name=i\n",
    "    RecommendGBDTlist=Recommend_GBDT(name,Topn_GBDT)\n",
    "    RecommendTruelist=Recommend_true(name,Topn_true)\n",
    "    Precision=len((list(set(RecommendGBDTlist) & set(RecommendTruelist))))/len(RecommendTruelist)\n",
    "    all_Precision.append(Precision)\n",
    "all_Precision=np.mean(all_Precision)\n",
    "print(\"命中率：\"+str( np.mean(all_Precision)))"
   ]
  },
  {
   "cell_type": "code",
   "execution_count": 71,
   "metadata": {},
   "outputs": [
    {
     "name": "stdout",
     "output_type": "stream",
     "text": [
      "命中率：0.34415584415584416\n"
     ]
    }
   ],
   "source": [
    "Topn_GBDT=30\n",
    "Topn_true=10\n",
    "all_Precision=[]\n",
    "for i in alluser:\n",
    "    name=i\n",
    "    RecommendGBDTlist=Recommend_GBDT(name,Topn_GBDT)\n",
    "    RecommendTruelist=Recommend_true(name,Topn_true)\n",
    "    Precision=len((list(set(RecommendGBDTlist) & set(RecommendTruelist))))/len(RecommendTruelist)\n",
    "    all_Precision.append(Precision)\n",
    "all_Precision=np.mean(all_Precision)\n",
    "print(\"命中率：\"+str( np.mean(all_Precision)))"
   ]
  },
  {
   "cell_type": "code",
   "execution_count": 72,
   "metadata": {},
   "outputs": [
    {
     "name": "stdout",
     "output_type": "stream",
     "text": [
      "Wall time: 4.95 ms\n"
     ]
    }
   ],
   "source": [
    "%%time\n",
    "from sklearn.linear_model import LinearRegression\n",
    "\n",
    "model = LinearRegression()#\n",
    "model.fit(X, Y)\n",
    "predict_results = model.predict(X)"
   ]
  },
  {
   "cell_type": "code",
   "execution_count": 73,
   "metadata": {},
   "outputs": [
    {
     "name": "stderr",
     "output_type": "stream",
     "text": [
      "D:\\anaconda\\lib\\site-packages\\ipykernel_launcher.py:2: SettingWithCopyWarning: \n",
      "A value is trying to be set on a copy of a slice from a DataFrame.\n",
      "Try using .loc[row_indexer,col_indexer] = value instead\n",
      "\n",
      "See the caveats in the documentation: http://pandas.pydata.org/pandas-docs/stable/user_guide/indexing.html#returning-a-view-versus-a-copy\n",
      "  \n"
     ]
    }
   ],
   "source": [
    "RecommendLR=all_traindata[['u1','u2']]\n",
    "RecommendLR['prelabel']=pd.DataFrame(predict_results, columns=None)"
   ]
  },
  {
   "cell_type": "code",
   "execution_count": 74,
   "metadata": {},
   "outputs": [],
   "source": [
    "def Recommend_LR(name,Topn):\n",
    "    user1=RecommendLR[RecommendLR.u1==name]\n",
    "    user2=RecommendLR[RecommendLR.u2==name]\n",
    "    user=pd.concat([user1,user2])\n",
    "    user=user.sort_values(by='prelabel',ascending=False)\n",
    "    Recommendlist=[]\n",
    "    for i in range(Topn):\n",
    "        Recommendlist.append(user.iloc[i,1])\n",
    "    return Recommendlist"
   ]
  },
  {
   "cell_type": "code",
   "execution_count": 75,
   "metadata": {},
   "outputs": [
    {
     "name": "stdout",
     "output_type": "stream",
     "text": [
      "命中率：0.0831168831168831\n"
     ]
    }
   ],
   "source": [
    "Topn_LR=5\n",
    "Topn_true=10\n",
    "all_Precision=[]\n",
    "\n",
    "for i in alluser:\n",
    "    name=i\n",
    "    RecommendLRlist=Recommend_LR(name,Topn_LR)\n",
    "    RecommendTruelist=Recommend_true(name,Topn_true)\n",
    "    Precision=len((list(set(RecommendLRlist) & set(RecommendTruelist))))/len(RecommendTruelist)\n",
    "    all_Precision.append(Precision)\n",
    "all_Precision=np.mean(all_Precision)\n",
    "print(\"命中率：\"+str( np.mean(all_Precision)))"
   ]
  },
  {
   "cell_type": "code",
   "execution_count": 76,
   "metadata": {},
   "outputs": [
    {
     "name": "stdout",
     "output_type": "stream",
     "text": [
      "命中率：0.1412698412698413\n"
     ]
    }
   ],
   "source": [
    "Topn_LR=10\n",
    "Topn_true=10\n",
    "all_Precision=[]\n",
    "\n",
    "for i in alluser:\n",
    "    name=i\n",
    "    RecommendLRlist=Recommend_LR(name,Topn_LR)\n",
    "    RecommendTruelist=Recommend_true(name,Topn_true)\n",
    "    Precision=len((list(set(RecommendLRlist) & set(RecommendTruelist))))/len(RecommendTruelist)\n",
    "    all_Precision.append(Precision)\n",
    "all_Precision=np.mean(all_Precision)\n",
    "print(\"命中率：\"+str( np.mean(all_Precision)))"
   ]
  },
  {
   "cell_type": "code",
   "execution_count": 77,
   "metadata": {},
   "outputs": [
    {
     "name": "stdout",
     "output_type": "stream",
     "text": [
      "命中率：0.1867243867243868\n"
     ]
    }
   ],
   "source": [
    "Topn_LR=15\n",
    "Topn_true=10\n",
    "all_Precision=[]\n",
    "\n",
    "for i in alluser:\n",
    "    name=i\n",
    "    RecommendLRlist=Recommend_LR(name,Topn_LR)\n",
    "    RecommendTruelist=Recommend_true(name,Topn_true)\n",
    "    Precision=len((list(set(RecommendLRlist) & set(RecommendTruelist))))/len(RecommendTruelist)\n",
    "    all_Precision.append(Precision)\n",
    "all_Precision=np.mean(all_Precision)\n",
    "print(\"命中率：\"+str( np.mean(all_Precision)))"
   ]
  },
  {
   "cell_type": "code",
   "execution_count": 78,
   "metadata": {},
   "outputs": [
    {
     "name": "stdout",
     "output_type": "stream",
     "text": [
      "命中率：0.2301587301587302\n"
     ]
    }
   ],
   "source": [
    "Topn_LR=20\n",
    "Topn_true=10\n",
    "all_Precision=[]\n",
    "\n",
    "for i in alluser:\n",
    "    name=i\n",
    "    RecommendLRlist=Recommend_LR(name,Topn_LR)\n",
    "    RecommendTruelist=Recommend_true(name,Topn_true)\n",
    "    Precision=len((list(set(RecommendLRlist) & set(RecommendTruelist))))/len(RecommendTruelist)\n",
    "    all_Precision.append(Precision)\n",
    "all_Precision=np.mean(all_Precision)\n",
    "print(\"命中率：\"+str( np.mean(all_Precision)))"
   ]
  },
  {
   "cell_type": "code",
   "execution_count": 79,
   "metadata": {},
   "outputs": [
    {
     "name": "stdout",
     "output_type": "stream",
     "text": [
      "命中率：0.2724386724386725\n"
     ]
    }
   ],
   "source": [
    "Topn_LR=25\n",
    "Topn_true=10\n",
    "all_Precision=[]\n",
    "\n",
    "for i in alluser:\n",
    "    name=i\n",
    "    RecommendLRlist=Recommend_LR(name,Topn_LR)\n",
    "    RecommendTruelist=Recommend_true(name,Topn_true)\n",
    "    Precision=len((list(set(RecommendLRlist) & set(RecommendTruelist))))/len(RecommendTruelist)\n",
    "    all_Precision.append(Precision)\n",
    "all_Precision=np.mean(all_Precision)\n",
    "print(\"命中率：\"+str( np.mean(all_Precision)))"
   ]
  },
  {
   "cell_type": "code",
   "execution_count": 80,
   "metadata": {},
   "outputs": [
    {
     "name": "stdout",
     "output_type": "stream",
     "text": [
      "命中率：0.31731601731601733\n"
     ]
    }
   ],
   "source": [
    "Topn_LR=30\n",
    "Topn_true=10\n",
    "all_Precision=[]\n",
    "\n",
    "for i in alluser:\n",
    "    name=i\n",
    "    RecommendLRlist=Recommend_LR(name,Topn_LR)\n",
    "    RecommendTruelist=Recommend_true(name,Topn_true)\n",
    "    Precision=len((list(set(RecommendLRlist) & set(RecommendTruelist))))/len(RecommendTruelist)\n",
    "    all_Precision.append(Precision)\n",
    "all_Precision=np.mean(all_Precision)\n",
    "print(\"命中率：\"+str( np.mean(all_Precision)))"
   ]
  },
  {
   "cell_type": "code",
   "execution_count": 48,
   "metadata": {},
   "outputs": [
    {
     "name": "stdout",
     "output_type": "stream",
     "text": [
      "Wall time: 23.9 ms\n"
     ]
    }
   ],
   "source": [
    "%%time\n",
    "from sklearn import neighbors\n",
    "\n",
    "model = neighbors.KNeighborsRegressor()\n",
    "model.fit(X, Y)\n",
    "predict_results = model.predict(X)"
   ]
  },
  {
   "cell_type": "code",
   "execution_count": 49,
   "metadata": {},
   "outputs": [
    {
     "name": "stderr",
     "output_type": "stream",
     "text": [
      "D:\\anaconda\\lib\\site-packages\\ipykernel_launcher.py:2: SettingWithCopyWarning: \n",
      "A value is trying to be set on a copy of a slice from a DataFrame.\n",
      "Try using .loc[row_indexer,col_indexer] = value instead\n",
      "\n",
      "See the caveats in the documentation: http://pandas.pydata.org/pandas-docs/stable/user_guide/indexing.html#returning-a-view-versus-a-copy\n",
      "  \n"
     ]
    }
   ],
   "source": [
    "RecommendKNN=all_traindata[['u1','u2']]\n",
    "RecommendKNN['prelabel']=pd.DataFrame(predict_results, columns=None)"
   ]
  },
  {
   "cell_type": "code",
   "execution_count": 50,
   "metadata": {},
   "outputs": [],
   "source": [
    "def Recommend_KNN(name,Topn):\n",
    "    user1=RecommendKNN[RecommendKNN.u1==name]\n",
    "    user2=RecommendKNN[RecommendKNN.u2==name]\n",
    "    user=pd.concat([user1,user2])\n",
    "    user=user.sort_values(by='prelabel',ascending=False)\n",
    "    Recommendlist=[]\n",
    "    for i in range(Topn):\n",
    "        Recommendlist.append(user.iloc[i,1])\n",
    "    return Recommendlist"
   ]
  },
  {
   "cell_type": "code",
   "execution_count": 57,
   "metadata": {},
   "outputs": [
    {
     "name": "stdout",
     "output_type": "stream",
     "text": [
      "命中率：0.10701298701298699\n"
     ]
    }
   ],
   "source": [
    "Topn_KNN=5\n",
    "Topn_true=10\n",
    "all_Precision=[]\n",
    "\n",
    "for i in alluser:\n",
    "    name=i\n",
    "    RecommendKNNlist=Recommend_KNN(name,Topn_KNN)\n",
    "    RecommendTruelist=Recommend_true(name,Topn_true)\n",
    "    Precision=len((list(set(RecommendKNNlist) & set(RecommendTruelist))))/len(RecommendTruelist)\n",
    "    all_Precision.append(Precision)\n",
    "all_Precision=np.mean(all_Precision)\n",
    "print(\"命中率：\"+str( np.mean(all_Precision)))"
   ]
  },
  {
   "cell_type": "code",
   "execution_count": 58,
   "metadata": {},
   "outputs": [
    {
     "name": "stdout",
     "output_type": "stream",
     "text": [
      "命中率：0.1761038961038961\n"
     ]
    }
   ],
   "source": [
    "Topn_KNN=10\n",
    "Topn_true=10\n",
    "all_Precision=[]\n",
    "\n",
    "for i in alluser:\n",
    "    name=i\n",
    "    RecommendKNNlist=Recommend_KNN(name,Topn_KNN)\n",
    "    RecommendTruelist=Recommend_true(name,Topn_true)\n",
    "    Precision=len((list(set(RecommendKNNlist) & set(RecommendTruelist))))/len(RecommendTruelist)\n",
    "    all_Precision.append(Precision)\n",
    "all_Precision=np.mean(all_Precision)\n",
    "print(\"命中率：\"+str( np.mean(all_Precision)))"
   ]
  },
  {
   "cell_type": "code",
   "execution_count": 59,
   "metadata": {},
   "outputs": [
    {
     "name": "stdout",
     "output_type": "stream",
     "text": [
      "命中率：0.23341991341991342\n"
     ]
    }
   ],
   "source": [
    "Topn_KNN=15\n",
    "Topn_true=10\n",
    "all_Precision=[]\n",
    "\n",
    "for i in alluser:\n",
    "    name=i\n",
    "    RecommendKNNlist=Recommend_KNN(name,Topn_KNN)\n",
    "    RecommendTruelist=Recommend_true(name,Topn_true)\n",
    "    Precision=len((list(set(RecommendKNNlist) & set(RecommendTruelist))))/len(RecommendTruelist)\n",
    "    all_Precision.append(Precision)\n",
    "all_Precision=np.mean(all_Precision)\n",
    "print(\"命中率：\"+str( np.mean(all_Precision)))"
   ]
  },
  {
   "cell_type": "code",
   "execution_count": 60,
   "metadata": {},
   "outputs": [
    {
     "name": "stdout",
     "output_type": "stream",
     "text": [
      "命中率：0.2877922077922078\n"
     ]
    }
   ],
   "source": [
    "Topn_KNN=20\n",
    "Topn_true=10\n",
    "all_Precision=[]\n",
    "\n",
    "for i in alluser:\n",
    "    name=i\n",
    "    RecommendKNNlist=Recommend_KNN(name,Topn_KNN)\n",
    "    RecommendTruelist=Recommend_true(name,Topn_true)\n",
    "    Precision=len((list(set(RecommendKNNlist) & set(RecommendTruelist))))/len(RecommendTruelist)\n",
    "    all_Precision.append(Precision)\n",
    "all_Precision=np.mean(all_Precision)\n",
    "print(\"命中率：\"+str( np.mean(all_Precision)))"
   ]
  },
  {
   "cell_type": "code",
   "execution_count": 61,
   "metadata": {},
   "outputs": [
    {
     "name": "stdout",
     "output_type": "stream",
     "text": [
      "命中率：0.33437229437229427\n"
     ]
    }
   ],
   "source": [
    "Topn_KNN=25\n",
    "Topn_true=10\n",
    "all_Precision=[]\n",
    "\n",
    "for i in alluser:\n",
    "    name=i\n",
    "    RecommendKNNlist=Recommend_KNN(name,Topn_KNN)\n",
    "    RecommendTruelist=Recommend_true(name,Topn_true)\n",
    "    Precision=len((list(set(RecommendKNNlist) & set(RecommendTruelist))))/len(RecommendTruelist)\n",
    "    all_Precision.append(Precision)\n",
    "all_Precision=np.mean(all_Precision)\n",
    "print(\"命中率：\"+str( np.mean(all_Precision)))"
   ]
  },
  {
   "cell_type": "code",
   "execution_count": 62,
   "metadata": {},
   "outputs": [
    {
     "name": "stdout",
     "output_type": "stream",
     "text": [
      "命中率：0.37402597402597404\n"
     ]
    }
   ],
   "source": [
    "Topn_KNN=30\n",
    "Topn_true=10\n",
    "all_Precision=[]\n",
    "\n",
    "for i in alluser:\n",
    "    name=i\n",
    "    RecommendKNNlist=Recommend_KNN(name,Topn_KNN)\n",
    "    RecommendTruelist=Recommend_true(name,Topn_true)\n",
    "    Precision=len((list(set(RecommendKNNlist) & set(RecommendTruelist))))/len(RecommendTruelist)\n",
    "    all_Precision.append(Precision)\n",
    "all_Precision=np.mean(all_Precision)\n",
    "print(\"命中率：\"+str( np.mean(all_Precision)))"
   ]
  },
  {
   "cell_type": "code",
   "execution_count": 32,
   "metadata": {},
   "outputs": [
    {
     "name": "stdout",
     "output_type": "stream",
     "text": [
      "Wall time: 115 ms\n"
     ]
    }
   ],
   "source": [
    "%%time\n",
    "from sklearn import ensemble\n",
    "\n",
    "model = ensemble.AdaBoostRegressor()\n",
    "model.fit(X, Y)\n",
    "predict_results = model.predict(X)"
   ]
  },
  {
   "cell_type": "code",
   "execution_count": 33,
   "metadata": {},
   "outputs": [
    {
     "name": "stderr",
     "output_type": "stream",
     "text": [
      "D:\\anaconda\\lib\\site-packages\\ipykernel_launcher.py:2: SettingWithCopyWarning: \n",
      "A value is trying to be set on a copy of a slice from a DataFrame.\n",
      "Try using .loc[row_indexer,col_indexer] = value instead\n",
      "\n",
      "See the caveats in the documentation: http://pandas.pydata.org/pandas-docs/stable/user_guide/indexing.html#returning-a-view-versus-a-copy\n",
      "  \n"
     ]
    }
   ],
   "source": [
    "RecommendAda=all_traindata[['u1','u2']]\n",
    "RecommendAda['prelabel']=pd.DataFrame(predict_results, columns=None)"
   ]
  },
  {
   "cell_type": "code",
   "execution_count": 34,
   "metadata": {},
   "outputs": [],
   "source": [
    "def Recommend_Ada(name,Topn):\n",
    "    user1=RecommendAda[RecommendAda.u1==name]\n",
    "    user2=RecommendAda[RecommendAda.u2==name]\n",
    "    user=pd.concat([user1,user2])\n",
    "    user=user.sort_values(by='prelabel',ascending=False)\n",
    "    Recommendlist=[]\n",
    "    for i in range(Topn):\n",
    "        Recommendlist.append(user.iloc[i,1])\n",
    "    return Recommendlist"
   ]
  },
  {
   "cell_type": "code",
   "execution_count": 36,
   "metadata": {},
   "outputs": [
    {
     "name": "stdout",
     "output_type": "stream",
     "text": [
      "命中率：0.13477633477633477\n"
     ]
    }
   ],
   "source": [
    "Topn_Ada=5\n",
    "Topn_true=10\n",
    "all_Precision=[]\n",
    "\n",
    "for i in alluser:\n",
    "    name=i\n",
    "    RecommendAdalist=Recommend_Ada(name,Topn_Ada)\n",
    "    RecommendTruelist=Recommend_true(name,Topn_true)\n",
    "    Precision=len((list(set(RecommendAdalist) & set(RecommendTruelist))))/len(RecommendTruelist)\n",
    "    all_Precision.append(Precision)\n",
    "all_Precision=np.mean(all_Precision)\n",
    "print(\"命中率：\"+str( np.mean(all_Precision)))"
   ]
  },
  {
   "cell_type": "code",
   "execution_count": 37,
   "metadata": {},
   "outputs": [
    {
     "name": "stdout",
     "output_type": "stream",
     "text": [
      "命中率：0.19191919191919193\n"
     ]
    }
   ],
   "source": [
    "Topn_Ada=10\n",
    "Topn_true=10\n",
    "all_Precision=[]\n",
    "\n",
    "for i in alluser:\n",
    "    name=i\n",
    "    RecommendAdalist=Recommend_Ada(name,Topn_Ada)\n",
    "    RecommendTruelist=Recommend_true(name,Topn_true)\n",
    "    Precision=len((list(set(RecommendAdalist) & set(RecommendTruelist))))/len(RecommendTruelist)\n",
    "    all_Precision.append(Precision)\n",
    "all_Precision=np.mean(all_Precision)\n",
    "print(\"命中率：\"+str( np.mean(all_Precision)))"
   ]
  },
  {
   "cell_type": "code",
   "execution_count": 38,
   "metadata": {},
   "outputs": [
    {
     "name": "stdout",
     "output_type": "stream",
     "text": [
      "命中率：0.24415584415584418\n"
     ]
    }
   ],
   "source": [
    "Topn_Ada=15\n",
    "Topn_true=10\n",
    "all_Precision=[]\n",
    "\n",
    "for i in alluser:\n",
    "    name=i\n",
    "    RecommendAdalist=Recommend_Ada(name,Topn_Ada)\n",
    "    RecommendTruelist=Recommend_true(name,Topn_true)\n",
    "    Precision=len((list(set(RecommendAdalist) & set(RecommendTruelist))))/len(RecommendTruelist)\n",
    "    all_Precision.append(Precision)\n",
    "all_Precision=np.mean(all_Precision)\n",
    "print(\"命中率：\"+str( np.mean(all_Precision)))"
   ]
  },
  {
   "cell_type": "code",
   "execution_count": 39,
   "metadata": {},
   "outputs": [
    {
     "name": "stdout",
     "output_type": "stream",
     "text": [
      "命中率：0.2860028860028861\n"
     ]
    }
   ],
   "source": [
    "Topn_Ada=20\n",
    "Topn_true=10\n",
    "all_Precision=[]\n",
    "\n",
    "for i in alluser:\n",
    "    name=i\n",
    "    RecommendAdalist=Recommend_Ada(name,Topn_Ada)\n",
    "    RecommendTruelist=Recommend_true(name,Topn_true)\n",
    "    Precision=len((list(set(RecommendAdalist) & set(RecommendTruelist))))/len(RecommendTruelist)\n",
    "    all_Precision.append(Precision)\n",
    "all_Precision=np.mean(all_Precision)\n",
    "print(\"命中率：\"+str( np.mean(all_Precision)))"
   ]
  },
  {
   "cell_type": "code",
   "execution_count": 40,
   "metadata": {},
   "outputs": [
    {
     "name": "stdout",
     "output_type": "stream",
     "text": [
      "命中率：0.3240981240981243\n"
     ]
    }
   ],
   "source": [
    "Topn_Ada=25\n",
    "Topn_true=10\n",
    "all_Precision=[]\n",
    "\n",
    "for i in alluser:\n",
    "    name=i\n",
    "    RecommendAdalist=Recommend_Ada(name,Topn_Ada)\n",
    "    RecommendTruelist=Recommend_true(name,Topn_true)\n",
    "    Precision=len((list(set(RecommendAdalist) & set(RecommendTruelist))))/len(RecommendTruelist)\n",
    "    all_Precision.append(Precision)\n",
    "all_Precision=np.mean(all_Precision)\n",
    "print(\"命中率：\"+str( np.mean(all_Precision)))"
   ]
  },
  {
   "cell_type": "code",
   "execution_count": 41,
   "metadata": {},
   "outputs": [
    {
     "name": "stdout",
     "output_type": "stream",
     "text": [
      "命中率：0.35844155844155856\n"
     ]
    }
   ],
   "source": [
    "Topn_Ada=30\n",
    "Topn_true=10\n",
    "all_Precision=[]\n",
    "\n",
    "for i in alluser:\n",
    "    name=i\n",
    "    RecommendAdalist=Recommend_Ada(name,Topn_Ada)\n",
    "    RecommendTruelist=Recommend_true(name,Topn_true)\n",
    "    Precision=len((list(set(RecommendAdalist) & set(RecommendTruelist))))/len(RecommendTruelist)\n",
    "    all_Precision.append(Precision)\n",
    "all_Precision=np.mean(all_Precision)\n",
    "print(\"命中率：\"+str( np.mean(all_Precision)))"
   ]
  },
  {
   "cell_type": "code",
   "execution_count": null,
   "metadata": {},
   "outputs": [],
   "source": []
  }
 ],
 "metadata": {
  "kernelspec": {
   "display_name": "Python 3",
   "language": "python",
   "name": "python3"
  },
  "language_info": {
   "codemirror_mode": {
    "name": "ipython",
    "version": 3
   },
   "file_extension": ".py",
   "mimetype": "text/x-python",
   "name": "python",
   "nbconvert_exporter": "python",
   "pygments_lexer": "ipython3",
   "version": "3.7.4"
  },
  "toc": {
   "base_numbering": 1,
   "nav_menu": {},
   "number_sections": true,
   "sideBar": true,
   "skip_h1_title": false,
   "title_cell": "Table of Contents",
   "title_sidebar": "Contents",
   "toc_cell": false,
   "toc_position": {},
   "toc_section_display": true,
   "toc_window_display": false
  },
  "varInspector": {
   "cols": {
    "lenName": 16,
    "lenType": 16,
    "lenVar": 40
   },
   "kernels_config": {
    "python": {
     "delete_cmd_postfix": "",
     "delete_cmd_prefix": "del ",
     "library": "var_list.py",
     "varRefreshCmd": "print(var_dic_list())"
    },
    "r": {
     "delete_cmd_postfix": ") ",
     "delete_cmd_prefix": "rm(",
     "library": "var_list.r",
     "varRefreshCmd": "cat(var_dic_list()) "
    }
   },
   "types_to_exclude": [
    "module",
    "function",
    "builtin_function_or_method",
    "instance",
    "_Feature"
   ],
   "window_display": false
  }
 },
 "nbformat": 4,
 "nbformat_minor": 2
}
