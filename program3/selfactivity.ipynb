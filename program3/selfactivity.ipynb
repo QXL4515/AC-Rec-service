{
 "cells": [
  {
   "cell_type": "code",
   "execution_count": 1,
   "metadata": {},
   "outputs": [
    {
     "data": {
      "text/html": [
       "<div>\n",
       "<style scoped>\n",
       "    .dataframe tbody tr th:only-of-type {\n",
       "        vertical-align: middle;\n",
       "    }\n",
       "\n",
       "    .dataframe tbody tr th {\n",
       "        vertical-align: top;\n",
       "    }\n",
       "\n",
       "    .dataframe thead th {\n",
       "        text-align: right;\n",
       "    }\n",
       "</style>\n",
       "<table border=\"1\" class=\"dataframe\">\n",
       "  <thead>\n",
       "    <tr style=\"text-align: right;\">\n",
       "      <th></th>\n",
       "      <th>ResearchName</th>\n",
       "      <th>topics</th>\n",
       "      <th>Skills</th>\n",
       "      <th>InterestValue</th>\n",
       "      <th>CiteCount</th>\n",
       "      <th>RecomCount</th>\n",
       "      <th>ItemCount</th>\n",
       "      <th>FollowingCount</th>\n",
       "      <th>FollowerCount</th>\n",
       "      <th>ResearcherURL</th>\n",
       "    </tr>\n",
       "  </thead>\n",
       "  <tbody>\n",
       "    <tr>\n",
       "      <td>0</td>\n",
       "      <td>Jianbo Bai</td>\n",
       "      <td>Mechanical Engineering,Heat Transfer,Engineeri...</td>\n",
       "      <td>Modeling and Simulation,Thermal Engineering,He...</td>\n",
       "      <td>152.6</td>\n",
       "      <td>269</td>\n",
       "      <td>0</td>\n",
       "      <td>23</td>\n",
       "      <td>35</td>\n",
       "      <td>30</td>\n",
       "      <td>https://www.researchgate.net/profile/Jianbo_Bai</td>\n",
       "    </tr>\n",
       "    <tr>\n",
       "      <td>1</td>\n",
       "      <td>Fei Cao</td>\n",
       "      <td>Mechanical Engineering,Electrical Engineering,...</td>\n",
       "      <td>Renewable Energy Technologies,Engineering Ther...</td>\n",
       "      <td>236.1</td>\n",
       "      <td>377</td>\n",
       "      <td>9</td>\n",
       "      <td>32</td>\n",
       "      <td>8</td>\n",
       "      <td>24</td>\n",
       "      <td>https://www.researchgate.net/profile/Fei_Cao16</td>\n",
       "    </tr>\n",
       "    <tr>\n",
       "      <td>2</td>\n",
       "      <td>lu Dan</td>\n",
       "      <td>Electrical Engineering,Solid State Physics,Exp...</td>\n",
       "      <td>Fabrication,Multi-wavelength Lasers</td>\n",
       "      <td>17.9</td>\n",
       "      <td>32</td>\n",
       "      <td>1</td>\n",
       "      <td>12</td>\n",
       "      <td>36</td>\n",
       "      <td>29</td>\n",
       "      <td>https://www.researchgate.net/profile/Lu_Dan6</td>\n",
       "    </tr>\n",
       "    <tr>\n",
       "      <td>3</td>\n",
       "      <td>Kun DING</td>\n",
       "      <td>Ecological Engineering,Environmental Impact As...</td>\n",
       "      <td>Renewable Energy Technologies,Energy Engineeri...</td>\n",
       "      <td>198.3</td>\n",
       "      <td>289</td>\n",
       "      <td>8</td>\n",
       "      <td>17</td>\n",
       "      <td>39</td>\n",
       "      <td>127</td>\n",
       "      <td>https://www.researchgate.net/profile/Kun_Ding2</td>\n",
       "    </tr>\n",
       "    <tr>\n",
       "      <td>4</td>\n",
       "      <td>Jiajie Fan</td>\n",
       "      <td>Electrical Engineering,Electronic Engineering,...</td>\n",
       "      <td>Prognostics and Health Management,LED packagin...</td>\n",
       "      <td>467.1</td>\n",
       "      <td>591</td>\n",
       "      <td>35</td>\n",
       "      <td>79</td>\n",
       "      <td>110</td>\n",
       "      <td>103</td>\n",
       "      <td>https://www.researchgate.net/profile/Jiajie_Fan3</td>\n",
       "    </tr>\n",
       "  </tbody>\n",
       "</table>\n",
       "</div>"
      ],
      "text/plain": [
       "  ResearchName                                             topics  \\\n",
       "0   Jianbo Bai  Mechanical Engineering,Heat Transfer,Engineeri...   \n",
       "1      Fei Cao  Mechanical Engineering,Electrical Engineering,...   \n",
       "2       lu Dan  Electrical Engineering,Solid State Physics,Exp...   \n",
       "3     Kun DING  Ecological Engineering,Environmental Impact As...   \n",
       "4   Jiajie Fan  Electrical Engineering,Electronic Engineering,...   \n",
       "\n",
       "                                              Skills InterestValue CiteCount  \\\n",
       "0  Modeling and Simulation,Thermal Engineering,He...         152.6       269   \n",
       "1  Renewable Energy Technologies,Engineering Ther...         236.1       377   \n",
       "2                Fabrication,Multi-wavelength Lasers          17.9        32   \n",
       "3  Renewable Energy Technologies,Energy Engineeri...         198.3       289   \n",
       "4  Prognostics and Health Management,LED packagin...         467.1       591   \n",
       "\n",
       "   RecomCount  ItemCount  FollowingCount  FollowerCount  \\\n",
       "0           0         23              35             30   \n",
       "1           9         32               8             24   \n",
       "2           1         12              36             29   \n",
       "3           8         17              39            127   \n",
       "4          35         79             110            103   \n",
       "\n",
       "                                      ResearcherURL  \n",
       "0   https://www.researchgate.net/profile/Jianbo_Bai  \n",
       "1    https://www.researchgate.net/profile/Fei_Cao16  \n",
       "2      https://www.researchgate.net/profile/Lu_Dan6  \n",
       "3    https://www.researchgate.net/profile/Kun_Ding2  \n",
       "4  https://www.researchgate.net/profile/Jiajie_Fan3  "
      ]
     },
     "execution_count": 1,
     "metadata": {},
     "output_type": "execute_result"
    }
   ],
   "source": [
    "import pandas as pd\n",
    "import numpy as np\n",
    "userdata=pd.read_excel('user.xlsx')\n",
    "userdata.head()"
   ]
  },
  {
   "cell_type": "code",
   "execution_count": 2,
   "metadata": {},
   "outputs": [
    {
     "data": {
      "text/plain": [
       "Index(['ResearchName', 'topics', 'Skills', 'InterestValue', 'CiteCount',\n",
       "       'RecomCount', 'ItemCount', 'FollowingCount', 'FollowerCount',\n",
       "       'ResearcherURL'],\n",
       "      dtype='object')"
      ]
     },
     "execution_count": 2,
     "metadata": {},
     "output_type": "execute_result"
    }
   ],
   "source": [
    "userdata.columns"
   ]
  },
  {
   "cell_type": "code",
   "execution_count": 3,
   "metadata": {},
   "outputs": [
    {
     "data": {
      "text/plain": [
       "(1748, 10)"
      ]
     },
     "execution_count": 3,
     "metadata": {},
     "output_type": "execute_result"
    }
   ],
   "source": [
    "userdata.shape  "
   ]
  },
  {
   "cell_type": "code",
   "execution_count": 4,
   "metadata": {},
   "outputs": [],
   "source": [
    "def clean(x):\n",
    "    if x=='- -':\n",
    "        return 0\n",
    "    return x.replace(',','')\n",
    "userdata['InterestValue']=pd.DataFrame(userdata['InterestValue'].apply(lambda x:clean(x)),dtype=np.float)   \n",
    "userdata['CiteCount']=pd.DataFrame(userdata['CiteCount'].apply(lambda x:clean(x)),dtype=np.float)     "
   ]
  },
  {
   "cell_type": "code",
   "execution_count": null,
   "metadata": {},
   "outputs": [],
   "source": [
    "   "
   ]
  },
  {
   "cell_type": "code",
   "execution_count": 5,
   "metadata": {},
   "outputs": [
    {
     "data": {
      "text/plain": [
       "ResearchName       object\n",
       "topics             object\n",
       "Skills             object\n",
       "InterestValue     float64\n",
       "CiteCount         float64\n",
       "RecomCount          int64\n",
       "ItemCount           int64\n",
       "FollowingCount      int64\n",
       "FollowerCount       int64\n",
       "ResearcherURL      object\n",
       "dtype: object"
      ]
     },
     "execution_count": 5,
     "metadata": {},
     "output_type": "execute_result"
    }
   ],
   "source": [
    "userdata.dtypes"
   ]
  },
  {
   "cell_type": "code",
   "execution_count": 6,
   "metadata": {},
   "outputs": [],
   "source": [
    "userdata['Activity']=userdata.apply(lambda x:(x['InterestValue']+x['CiteCount']+x['RecomCount']+x['ItemCount'])/4,axis=1)"
   ]
  },
  {
   "cell_type": "code",
   "execution_count": 7,
   "metadata": {},
   "outputs": [
    {
     "data": {
      "text/html": [
       "<div>\n",
       "<style scoped>\n",
       "    .dataframe tbody tr th:only-of-type {\n",
       "        vertical-align: middle;\n",
       "    }\n",
       "\n",
       "    .dataframe tbody tr th {\n",
       "        vertical-align: top;\n",
       "    }\n",
       "\n",
       "    .dataframe thead th {\n",
       "        text-align: right;\n",
       "    }\n",
       "</style>\n",
       "<table border=\"1\" class=\"dataframe\">\n",
       "  <thead>\n",
       "    <tr style=\"text-align: right;\">\n",
       "      <th></th>\n",
       "      <th>ResearchName</th>\n",
       "      <th>topics</th>\n",
       "      <th>Skills</th>\n",
       "      <th>InterestValue</th>\n",
       "      <th>CiteCount</th>\n",
       "      <th>RecomCount</th>\n",
       "      <th>ItemCount</th>\n",
       "      <th>FollowingCount</th>\n",
       "      <th>FollowerCount</th>\n",
       "      <th>ResearcherURL</th>\n",
       "      <th>Activity</th>\n",
       "    </tr>\n",
       "  </thead>\n",
       "  <tbody>\n",
       "    <tr>\n",
       "      <td>0</td>\n",
       "      <td>Jianbo Bai</td>\n",
       "      <td>Mechanical Engineering,Heat Transfer,Engineeri...</td>\n",
       "      <td>Modeling and Simulation,Thermal Engineering,He...</td>\n",
       "      <td>152.6</td>\n",
       "      <td>269.0</td>\n",
       "      <td>0</td>\n",
       "      <td>23</td>\n",
       "      <td>35</td>\n",
       "      <td>30</td>\n",
       "      <td>https://www.researchgate.net/profile/Jianbo_Bai</td>\n",
       "      <td>111.150</td>\n",
       "    </tr>\n",
       "    <tr>\n",
       "      <td>1</td>\n",
       "      <td>Fei Cao</td>\n",
       "      <td>Mechanical Engineering,Electrical Engineering,...</td>\n",
       "      <td>Renewable Energy Technologies,Engineering Ther...</td>\n",
       "      <td>236.1</td>\n",
       "      <td>377.0</td>\n",
       "      <td>9</td>\n",
       "      <td>32</td>\n",
       "      <td>8</td>\n",
       "      <td>24</td>\n",
       "      <td>https://www.researchgate.net/profile/Fei_Cao16</td>\n",
       "      <td>163.525</td>\n",
       "    </tr>\n",
       "    <tr>\n",
       "      <td>2</td>\n",
       "      <td>lu Dan</td>\n",
       "      <td>Electrical Engineering,Solid State Physics,Exp...</td>\n",
       "      <td>Fabrication,Multi-wavelength Lasers</td>\n",
       "      <td>17.9</td>\n",
       "      <td>32.0</td>\n",
       "      <td>1</td>\n",
       "      <td>12</td>\n",
       "      <td>36</td>\n",
       "      <td>29</td>\n",
       "      <td>https://www.researchgate.net/profile/Lu_Dan6</td>\n",
       "      <td>15.725</td>\n",
       "    </tr>\n",
       "    <tr>\n",
       "      <td>3</td>\n",
       "      <td>Kun DING</td>\n",
       "      <td>Ecological Engineering,Environmental Impact As...</td>\n",
       "      <td>Renewable Energy Technologies,Energy Engineeri...</td>\n",
       "      <td>198.3</td>\n",
       "      <td>289.0</td>\n",
       "      <td>8</td>\n",
       "      <td>17</td>\n",
       "      <td>39</td>\n",
       "      <td>127</td>\n",
       "      <td>https://www.researchgate.net/profile/Kun_Ding2</td>\n",
       "      <td>128.075</td>\n",
       "    </tr>\n",
       "    <tr>\n",
       "      <td>4</td>\n",
       "      <td>Jiajie Fan</td>\n",
       "      <td>Electrical Engineering,Electronic Engineering,...</td>\n",
       "      <td>Prognostics and Health Management,LED packagin...</td>\n",
       "      <td>467.1</td>\n",
       "      <td>591.0</td>\n",
       "      <td>35</td>\n",
       "      <td>79</td>\n",
       "      <td>110</td>\n",
       "      <td>103</td>\n",
       "      <td>https://www.researchgate.net/profile/Jiajie_Fan3</td>\n",
       "      <td>293.025</td>\n",
       "    </tr>\n",
       "  </tbody>\n",
       "</table>\n",
       "</div>"
      ],
      "text/plain": [
       "  ResearchName                                             topics  \\\n",
       "0   Jianbo Bai  Mechanical Engineering,Heat Transfer,Engineeri...   \n",
       "1      Fei Cao  Mechanical Engineering,Electrical Engineering,...   \n",
       "2       lu Dan  Electrical Engineering,Solid State Physics,Exp...   \n",
       "3     Kun DING  Ecological Engineering,Environmental Impact As...   \n",
       "4   Jiajie Fan  Electrical Engineering,Electronic Engineering,...   \n",
       "\n",
       "                                              Skills  InterestValue  \\\n",
       "0  Modeling and Simulation,Thermal Engineering,He...          152.6   \n",
       "1  Renewable Energy Technologies,Engineering Ther...          236.1   \n",
       "2                Fabrication,Multi-wavelength Lasers           17.9   \n",
       "3  Renewable Energy Technologies,Energy Engineeri...          198.3   \n",
       "4  Prognostics and Health Management,LED packagin...          467.1   \n",
       "\n",
       "   CiteCount  RecomCount  ItemCount  FollowingCount  FollowerCount  \\\n",
       "0      269.0           0         23              35             30   \n",
       "1      377.0           9         32               8             24   \n",
       "2       32.0           1         12              36             29   \n",
       "3      289.0           8         17              39            127   \n",
       "4      591.0          35         79             110            103   \n",
       "\n",
       "                                      ResearcherURL  Activity  \n",
       "0   https://www.researchgate.net/profile/Jianbo_Bai   111.150  \n",
       "1    https://www.researchgate.net/profile/Fei_Cao16   163.525  \n",
       "2      https://www.researchgate.net/profile/Lu_Dan6    15.725  \n",
       "3    https://www.researchgate.net/profile/Kun_Ding2   128.075  \n",
       "4  https://www.researchgate.net/profile/Jiajie_Fan3   293.025  "
      ]
     },
     "execution_count": 7,
     "metadata": {},
     "output_type": "execute_result"
    }
   ],
   "source": [
    "userdata.head()"
   ]
  },
  {
   "cell_type": "code",
   "execution_count": 8,
   "metadata": {},
   "outputs": [],
   "source": [
    "userdata.to_excel('clean_user.xlsx',index=None)"
   ]
  },
  {
   "cell_type": "code",
   "execution_count": null,
   "metadata": {},
   "outputs": [],
   "source": []
  }
 ],
 "metadata": {
  "kernelspec": {
   "display_name": "Python 3",
   "language": "python",
   "name": "python3"
  },
  "language_info": {
   "codemirror_mode": {
    "name": "ipython",
    "version": 3
   },
   "file_extension": ".py",
   "mimetype": "text/x-python",
   "name": "python",
   "nbconvert_exporter": "python",
   "pygments_lexer": "ipython3",
   "version": "3.7.4"
  }
 },
 "nbformat": 4,
 "nbformat_minor": 2
}
